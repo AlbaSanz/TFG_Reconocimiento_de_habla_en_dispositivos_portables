{
 "cells": [
  {
   "cell_type": "code",
   "execution_count": 1,
   "metadata": {
    "ExecuteTime": {
     "end_time": "2023-05-16T10:32:57.239180Z",
     "start_time": "2023-05-16T10:32:40.990277Z"
    },
    "executionInfo": {
     "elapsed": 414,
     "status": "ok",
     "timestamp": 1682940786221,
     "user": {
      "displayName": "ALBA SANZ GARCIA",
      "userId": "07473662824620260012"
     },
     "user_tz": -120
    },
    "id": "tvj8aS6E1oWw"
   },
   "outputs": [
    {
     "name": "stdout",
     "output_type": "stream",
     "text": [
      "Requirement already satisfied: datasets in c:\\users\\albii\\onedrive\\escritorio\\alba\\4\\tfg\\.venv\\lib\\site-packages (2.12.0)\n",
      "Requirement already satisfied: numpy>=1.17 in c:\\users\\albii\\onedrive\\escritorio\\alba\\4\\tfg\\.venv\\lib\\site-packages (from datasets) (1.24.3)\n",
      "Requirement already satisfied: pyarrow>=8.0.0 in c:\\users\\albii\\onedrive\\escritorio\\alba\\4\\tfg\\.venv\\lib\\site-packages (from datasets) (12.0.0)\n",
      "Requirement already satisfied: dill<0.3.7,>=0.3.0 in c:\\users\\albii\\onedrive\\escritorio\\alba\\4\\tfg\\.venv\\lib\\site-packages (from datasets) (0.3.6)\n",
      "Requirement already satisfied: pandas in c:\\users\\albii\\onedrive\\escritorio\\alba\\4\\tfg\\.venv\\lib\\site-packages (from datasets) (2.0.1)\n",
      "Requirement already satisfied: requests>=2.19.0 in c:\\users\\albii\\onedrive\\escritorio\\alba\\4\\tfg\\.venv\\lib\\site-packages (from datasets) (2.30.0)\n",
      "Requirement already satisfied: tqdm>=4.62.1 in c:\\users\\albii\\onedrive\\escritorio\\alba\\4\\tfg\\.venv\\lib\\site-packages (from datasets) (4.65.0)\n",
      "Requirement already satisfied: xxhash in c:\\users\\albii\\onedrive\\escritorio\\alba\\4\\tfg\\.venv\\lib\\site-packages (from datasets) (3.2.0)\n",
      "Requirement already satisfied: multiprocess in c:\\users\\albii\\onedrive\\escritorio\\alba\\4\\tfg\\.venv\\lib\\site-packages (from datasets) (0.70.14)\n",
      "Requirement already satisfied: fsspec[http]>=2021.11.1 in c:\\users\\albii\\onedrive\\escritorio\\alba\\4\\tfg\\.venv\\lib\\site-packages (from datasets) (2023.5.0)\n",
      "Requirement already satisfied: aiohttp in c:\\users\\albii\\onedrive\\escritorio\\alba\\4\\tfg\\.venv\\lib\\site-packages (from datasets) (3.8.4)\n",
      "Requirement already satisfied: huggingface-hub<1.0.0,>=0.11.0 in c:\\users\\albii\\onedrive\\escritorio\\alba\\4\\tfg\\.venv\\lib\\site-packages (from datasets) (0.14.1)\n",
      "Requirement already satisfied: packaging in c:\\users\\albii\\onedrive\\escritorio\\alba\\4\\tfg\\.venv\\lib\\site-packages (from datasets) (23.1)\n",
      "Requirement already satisfied: responses<0.19 in c:\\users\\albii\\onedrive\\escritorio\\alba\\4\\tfg\\.venv\\lib\\site-packages (from datasets) (0.18.0)\n",
      "Requirement already satisfied: pyyaml>=5.1 in c:\\users\\albii\\onedrive\\escritorio\\alba\\4\\tfg\\.venv\\lib\\site-packages (from datasets) (6.0)\n",
      "Requirement already satisfied: attrs>=17.3.0 in c:\\users\\albii\\onedrive\\escritorio\\alba\\4\\tfg\\.venv\\lib\\site-packages (from aiohttp->datasets) (23.1.0)\n",
      "Requirement already satisfied: charset-normalizer<4.0,>=2.0 in c:\\users\\albii\\onedrive\\escritorio\\alba\\4\\tfg\\.venv\\lib\\site-packages (from aiohttp->datasets) (3.1.0)\n",
      "Requirement already satisfied: multidict<7.0,>=4.5 in c:\\users\\albii\\onedrive\\escritorio\\alba\\4\\tfg\\.venv\\lib\\site-packages (from aiohttp->datasets) (6.0.4)\n",
      "Requirement already satisfied: async-timeout<5.0,>=4.0.0a3 in c:\\users\\albii\\onedrive\\escritorio\\alba\\4\\tfg\\.venv\\lib\\site-packages (from aiohttp->datasets) (4.0.2)\n",
      "Requirement already satisfied: yarl<2.0,>=1.0 in c:\\users\\albii\\onedrive\\escritorio\\alba\\4\\tfg\\.venv\\lib\\site-packages (from aiohttp->datasets) (1.9.2)\n",
      "Requirement already satisfied: frozenlist>=1.1.1 in c:\\users\\albii\\onedrive\\escritorio\\alba\\4\\tfg\\.venv\\lib\\site-packages (from aiohttp->datasets) (1.3.3)\n",
      "Requirement already satisfied: aiosignal>=1.1.2 in c:\\users\\albii\\onedrive\\escritorio\\alba\\4\\tfg\\.venv\\lib\\site-packages (from aiohttp->datasets) (1.3.1)\n",
      "Requirement already satisfied: filelock in c:\\users\\albii\\onedrive\\escritorio\\alba\\4\\tfg\\.venv\\lib\\site-packages (from huggingface-hub<1.0.0,>=0.11.0->datasets) (3.12.0)\n",
      "Requirement already satisfied: typing-extensions>=3.7.4.3 in c:\\users\\albii\\onedrive\\escritorio\\alba\\4\\tfg\\.venv\\lib\\site-packages (from huggingface-hub<1.0.0,>=0.11.0->datasets) (4.5.0)\n",
      "Requirement already satisfied: idna<4,>=2.5 in c:\\users\\albii\\onedrive\\escritorio\\alba\\4\\tfg\\.venv\\lib\\site-packages (from requests>=2.19.0->datasets) (3.4)\n",
      "Requirement already satisfied: urllib3<3,>=1.21.1 in c:\\users\\albii\\onedrive\\escritorio\\alba\\4\\tfg\\.venv\\lib\\site-packages (from requests>=2.19.0->datasets) (1.26.15)\n",
      "Requirement already satisfied: certifi>=2017.4.17 in c:\\users\\albii\\onedrive\\escritorio\\alba\\4\\tfg\\.venv\\lib\\site-packages (from requests>=2.19.0->datasets) (2023.5.7)\n",
      "Requirement already satisfied: colorama in c:\\users\\albii\\onedrive\\escritorio\\alba\\4\\tfg\\.venv\\lib\\site-packages (from tqdm>=4.62.1->datasets) (0.4.6)\n",
      "Requirement already satisfied: python-dateutil>=2.8.2 in c:\\users\\albii\\onedrive\\escritorio\\alba\\4\\tfg\\.venv\\lib\\site-packages (from pandas->datasets) (2.8.2)\n",
      "Requirement already satisfied: pytz>=2020.1 in c:\\users\\albii\\onedrive\\escritorio\\alba\\4\\tfg\\.venv\\lib\\site-packages (from pandas->datasets) (2023.3)\n",
      "Requirement already satisfied: tzdata>=2022.1 in c:\\users\\albii\\onedrive\\escritorio\\alba\\4\\tfg\\.venv\\lib\\site-packages (from pandas->datasets) (2023.3)\n",
      "Requirement already satisfied: six>=1.5 in c:\\users\\albii\\onedrive\\escritorio\\alba\\4\\tfg\\.venv\\lib\\site-packages (from python-dateutil>=2.8.2->pandas->datasets) (1.16.0)\n",
      "Note: you may need to restart the kernel to use updated packages.\n"
     ]
    },
    {
     "name": "stderr",
     "output_type": "stream",
     "text": [
      "\n",
      "[notice] A new release of pip is available: 23.1.2 -> 23.2.1\n",
      "[notice] To update, run: python.exe -m pip install --upgrade pip\n"
     ]
    },
    {
     "name": "stdout",
     "output_type": "stream",
     "text": [
      "Requirement already satisfied: transformers in c:\\users\\albii\\onedrive\\escritorio\\alba\\4\\tfg\\.venv\\lib\\site-packages (4.28.1)\n",
      "Requirement already satisfied: filelock in c:\\users\\albii\\onedrive\\escritorio\\alba\\4\\tfg\\.venv\\lib\\site-packages (from transformers) (3.12.0)\n",
      "Requirement already satisfied: huggingface-hub<1.0,>=0.11.0 in c:\\users\\albii\\onedrive\\escritorio\\alba\\4\\tfg\\.venv\\lib\\site-packages (from transformers) (0.14.1)\n",
      "Requirement already satisfied: numpy>=1.17 in c:\\users\\albii\\onedrive\\escritorio\\alba\\4\\tfg\\.venv\\lib\\site-packages (from transformers) (1.24.3)\n",
      "Requirement already satisfied: packaging>=20.0 in c:\\users\\albii\\onedrive\\escritorio\\alba\\4\\tfg\\.venv\\lib\\site-packages (from transformers) (23.1)\n",
      "Requirement already satisfied: pyyaml>=5.1 in c:\\users\\albii\\onedrive\\escritorio\\alba\\4\\tfg\\.venv\\lib\\site-packages (from transformers) (6.0)\n",
      "Requirement already satisfied: regex!=2019.12.17 in c:\\users\\albii\\onedrive\\escritorio\\alba\\4\\tfg\\.venv\\lib\\site-packages (from transformers) (2023.5.5)\n",
      "Requirement already satisfied: requests in c:\\users\\albii\\onedrive\\escritorio\\alba\\4\\tfg\\.venv\\lib\\site-packages (from transformers) (2.30.0)\n",
      "Requirement already satisfied: tokenizers!=0.11.3,<0.14,>=0.11.1 in c:\\users\\albii\\onedrive\\escritorio\\alba\\4\\tfg\\.venv\\lib\\site-packages (from transformers) (0.13.3)\n",
      "Requirement already satisfied: tqdm>=4.27 in c:\\users\\albii\\onedrive\\escritorio\\alba\\4\\tfg\\.venv\\lib\\site-packages (from transformers) (4.65.0)\n",
      "Requirement already satisfied: fsspec in c:\\users\\albii\\onedrive\\escritorio\\alba\\4\\tfg\\.venv\\lib\\site-packages (from huggingface-hub<1.0,>=0.11.0->transformers) (2023.5.0)\n",
      "Requirement already satisfied: typing-extensions>=3.7.4.3 in c:\\users\\albii\\onedrive\\escritorio\\alba\\4\\tfg\\.venv\\lib\\site-packages (from huggingface-hub<1.0,>=0.11.0->transformers) (4.5.0)\n",
      "Requirement already satisfied: colorama in c:\\users\\albii\\onedrive\\escritorio\\alba\\4\\tfg\\.venv\\lib\\site-packages (from tqdm>=4.27->transformers) (0.4.6)\n",
      "Requirement already satisfied: charset-normalizer<4,>=2 in c:\\users\\albii\\onedrive\\escritorio\\alba\\4\\tfg\\.venv\\lib\\site-packages (from requests->transformers) (3.1.0)\n",
      "Requirement already satisfied: idna<4,>=2.5 in c:\\users\\albii\\onedrive\\escritorio\\alba\\4\\tfg\\.venv\\lib\\site-packages (from requests->transformers) (3.4)\n",
      "Requirement already satisfied: urllib3<3,>=1.21.1 in c:\\users\\albii\\onedrive\\escritorio\\alba\\4\\tfg\\.venv\\lib\\site-packages (from requests->transformers) (1.26.15)\n",
      "Requirement already satisfied: certifi>=2017.4.17 in c:\\users\\albii\\onedrive\\escritorio\\alba\\4\\tfg\\.venv\\lib\\site-packages (from requests->transformers) (2023.5.7)\n",
      "Note: you may need to restart the kernel to use updated packages.\n"
     ]
    },
    {
     "name": "stderr",
     "output_type": "stream",
     "text": [
      "\n",
      "[notice] A new release of pip is available: 23.1.2 -> 23.2.1\n",
      "[notice] To update, run: python.exe -m pip install --upgrade pip\n"
     ]
    },
    {
     "name": "stdout",
     "output_type": "stream",
     "text": [
      "Requirement already satisfied: wandb in c:\\users\\albii\\onedrive\\escritorio\\alba\\4\\tfg\\.venv\\lib\\site-packages (0.15.2)\n",
      "Requirement already satisfied: Click!=8.0.0,>=7.0 in c:\\users\\albii\\onedrive\\escritorio\\alba\\4\\tfg\\.venv\\lib\\site-packages (from wandb) (8.1.3)\n",
      "Requirement already satisfied: GitPython!=3.1.29,>=1.0.0 in c:\\users\\albii\\onedrive\\escritorio\\alba\\4\\tfg\\.venv\\lib\\site-packages (from wandb) (3.1.31)\n",
      "Requirement already satisfied: requests<3,>=2.0.0 in c:\\users\\albii\\onedrive\\escritorio\\alba\\4\\tfg\\.venv\\lib\\site-packages (from wandb) (2.30.0)\n",
      "Requirement already satisfied: psutil>=5.0.0 in c:\\users\\albii\\onedrive\\escritorio\\alba\\4\\tfg\\.venv\\lib\\site-packages (from wandb) (5.9.5)\n",
      "Requirement already satisfied: sentry-sdk>=1.0.0 in c:\\users\\albii\\onedrive\\escritorio\\alba\\4\\tfg\\.venv\\lib\\site-packages (from wandb) (1.22.1)\n",
      "Requirement already satisfied: docker-pycreds>=0.4.0 in c:\\users\\albii\\onedrive\\escritorio\\alba\\4\\tfg\\.venv\\lib\\site-packages (from wandb) (0.4.0)\n",
      "Requirement already satisfied: PyYAML in c:\\users\\albii\\onedrive\\escritorio\\alba\\4\\tfg\\.venv\\lib\\site-packages (from wandb) (6.0)\n",
      "Requirement already satisfied: pathtools in c:\\users\\albii\\onedrive\\escritorio\\alba\\4\\tfg\\.venv\\lib\\site-packages (from wandb) (0.1.2)\n",
      "Requirement already satisfied: setproctitle in c:\\users\\albii\\onedrive\\escritorio\\alba\\4\\tfg\\.venv\\lib\\site-packages (from wandb) (1.3.2)\n",
      "Requirement already satisfied: setuptools in c:\\users\\albii\\onedrive\\escritorio\\alba\\4\\tfg\\.venv\\lib\\site-packages (from wandb) (65.5.0)\n",
      "Requirement already satisfied: appdirs>=1.4.3 in c:\\users\\albii\\onedrive\\escritorio\\alba\\4\\tfg\\.venv\\lib\\site-packages (from wandb) (1.4.4)\n",
      "Requirement already satisfied: protobuf!=4.21.0,<5,>=3.19.0 in c:\\users\\albii\\onedrive\\escritorio\\alba\\4\\tfg\\.venv\\lib\\site-packages (from wandb) (4.22.4)\n",
      "Requirement already satisfied: colorama in c:\\users\\albii\\onedrive\\escritorio\\alba\\4\\tfg\\.venv\\lib\\site-packages (from Click!=8.0.0,>=7.0->wandb) (0.4.6)\n",
      "Requirement already satisfied: six>=1.4.0 in c:\\users\\albii\\onedrive\\escritorio\\alba\\4\\tfg\\.venv\\lib\\site-packages (from docker-pycreds>=0.4.0->wandb) (1.16.0)\n",
      "Requirement already satisfied: gitdb<5,>=4.0.1 in c:\\users\\albii\\onedrive\\escritorio\\alba\\4\\tfg\\.venv\\lib\\site-packages (from GitPython!=3.1.29,>=1.0.0->wandb) (4.0.10)\n",
      "Requirement already satisfied: charset-normalizer<4,>=2 in c:\\users\\albii\\onedrive\\escritorio\\alba\\4\\tfg\\.venv\\lib\\site-packages (from requests<3,>=2.0.0->wandb) (3.1.0)\n",
      "Requirement already satisfied: idna<4,>=2.5 in c:\\users\\albii\\onedrive\\escritorio\\alba\\4\\tfg\\.venv\\lib\\site-packages (from requests<3,>=2.0.0->wandb) (3.4)\n",
      "Requirement already satisfied: urllib3<3,>=1.21.1 in c:\\users\\albii\\onedrive\\escritorio\\alba\\4\\tfg\\.venv\\lib\\site-packages (from requests<3,>=2.0.0->wandb) (1.26.15)\n",
      "Requirement already satisfied: certifi>=2017.4.17 in c:\\users\\albii\\onedrive\\escritorio\\alba\\4\\tfg\\.venv\\lib\\site-packages (from requests<3,>=2.0.0->wandb) (2023.5.7)\n",
      "Requirement already satisfied: smmap<6,>=3.0.1 in c:\\users\\albii\\onedrive\\escritorio\\alba\\4\\tfg\\.venv\\lib\\site-packages (from gitdb<5,>=4.0.1->GitPython!=3.1.29,>=1.0.0->wandb) (5.0.0)\n",
      "Note: you may need to restart the kernel to use updated packages.\n"
     ]
    },
    {
     "name": "stderr",
     "output_type": "stream",
     "text": [
      "\n",
      "[notice] A new release of pip is available: 23.1.2 -> 23.2.1\n",
      "[notice] To update, run: python.exe -m pip install --upgrade pip\n"
     ]
    },
    {
     "name": "stdout",
     "output_type": "stream",
     "text": [
      "Requirement already satisfied: torch in c:\\users\\albii\\onedrive\\escritorio\\alba\\4\\tfg\\.venv\\lib\\site-packages (2.0.1)\n",
      "Requirement already satisfied: filelock in c:\\users\\albii\\onedrive\\escritorio\\alba\\4\\tfg\\.venv\\lib\\site-packages (from torch) (3.12.0)\n",
      "Requirement already satisfied: typing-extensions in c:\\users\\albii\\onedrive\\escritorio\\alba\\4\\tfg\\.venv\\lib\\site-packages (from torch) (4.5.0)\n",
      "Requirement already satisfied: sympy in c:\\users\\albii\\onedrive\\escritorio\\alba\\4\\tfg\\.venv\\lib\\site-packages (from torch) (1.11.1)\n",
      "Requirement already satisfied: networkx in c:\\users\\albii\\onedrive\\escritorio\\alba\\4\\tfg\\.venv\\lib\\site-packages (from torch) (3.1)\n",
      "Requirement already satisfied: jinja2 in c:\\users\\albii\\onedrive\\escritorio\\alba\\4\\tfg\\.venv\\lib\\site-packages (from torch) (3.1.2)\n",
      "Requirement already satisfied: MarkupSafe>=2.0 in c:\\users\\albii\\onedrive\\escritorio\\alba\\4\\tfg\\.venv\\lib\\site-packages (from jinja2->torch) (2.1.2)\n",
      "Requirement already satisfied: mpmath>=0.19 in c:\\users\\albii\\onedrive\\escritorio\\alba\\4\\tfg\\.venv\\lib\\site-packages (from sympy->torch) (1.3.0)\n",
      "Note: you may need to restart the kernel to use updated packages.\n"
     ]
    },
    {
     "name": "stderr",
     "output_type": "stream",
     "text": [
      "\n",
      "[notice] A new release of pip is available: 23.1.2 -> 23.2.1\n",
      "[notice] To update, run: python.exe -m pip install --upgrade pip\n"
     ]
    },
    {
     "name": "stdout",
     "output_type": "stream",
     "text": [
      "Requirement already satisfied: evaluate in c:\\users\\albii\\onedrive\\escritorio\\alba\\4\\tfg\\.venv\\lib\\site-packages (0.4.0)\n",
      "Requirement already satisfied: datasets>=2.0.0 in c:\\users\\albii\\onedrive\\escritorio\\alba\\4\\tfg\\.venv\\lib\\site-packages (from evaluate) (2.12.0)\n",
      "Requirement already satisfied: numpy>=1.17 in c:\\users\\albii\\onedrive\\escritorio\\alba\\4\\tfg\\.venv\\lib\\site-packages (from evaluate) (1.24.3)\n",
      "Requirement already satisfied: dill in c:\\users\\albii\\onedrive\\escritorio\\alba\\4\\tfg\\.venv\\lib\\site-packages (from evaluate) (0.3.6)\n",
      "Requirement already satisfied: pandas in c:\\users\\albii\\onedrive\\escritorio\\alba\\4\\tfg\\.venv\\lib\\site-packages (from evaluate) (2.0.1)\n",
      "Requirement already satisfied: requests>=2.19.0 in c:\\users\\albii\\onedrive\\escritorio\\alba\\4\\tfg\\.venv\\lib\\site-packages (from evaluate) (2.30.0)\n",
      "Requirement already satisfied: tqdm>=4.62.1 in c:\\users\\albii\\onedrive\\escritorio\\alba\\4\\tfg\\.venv\\lib\\site-packages (from evaluate) (4.65.0)\n",
      "Requirement already satisfied: xxhash in c:\\users\\albii\\onedrive\\escritorio\\alba\\4\\tfg\\.venv\\lib\\site-packages (from evaluate) (3.2.0)\n",
      "Requirement already satisfied: multiprocess in c:\\users\\albii\\onedrive\\escritorio\\alba\\4\\tfg\\.venv\\lib\\site-packages (from evaluate) (0.70.14)\n",
      "Requirement already satisfied: fsspec[http]>=2021.05.0 in c:\\users\\albii\\onedrive\\escritorio\\alba\\4\\tfg\\.venv\\lib\\site-packages (from evaluate) (2023.5.0)\n",
      "Requirement already satisfied: huggingface-hub>=0.7.0 in c:\\users\\albii\\onedrive\\escritorio\\alba\\4\\tfg\\.venv\\lib\\site-packages (from evaluate) (0.14.1)\n",
      "Requirement already satisfied: packaging in c:\\users\\albii\\onedrive\\escritorio\\alba\\4\\tfg\\.venv\\lib\\site-packages (from evaluate) (23.1)\n",
      "Requirement already satisfied: responses<0.19 in c:\\users\\albii\\onedrive\\escritorio\\alba\\4\\tfg\\.venv\\lib\\site-packages (from evaluate) (0.18.0)\n",
      "Requirement already satisfied: pyarrow>=8.0.0 in c:\\users\\albii\\onedrive\\escritorio\\alba\\4\\tfg\\.venv\\lib\\site-packages (from datasets>=2.0.0->evaluate) (12.0.0)\n",
      "Requirement already satisfied: aiohttp in c:\\users\\albii\\onedrive\\escritorio\\alba\\4\\tfg\\.venv\\lib\\site-packages (from datasets>=2.0.0->evaluate) (3.8.4)\n",
      "Requirement already satisfied: pyyaml>=5.1 in c:\\users\\albii\\onedrive\\escritorio\\alba\\4\\tfg\\.venv\\lib\\site-packages (from datasets>=2.0.0->evaluate) (6.0)\n",
      "Requirement already satisfied: filelock in c:\\users\\albii\\onedrive\\escritorio\\alba\\4\\tfg\\.venv\\lib\\site-packages (from huggingface-hub>=0.7.0->evaluate) (3.12.0)\n",
      "Requirement already satisfied: typing-extensions>=3.7.4.3 in c:\\users\\albii\\onedrive\\escritorio\\alba\\4\\tfg\\.venv\\lib\\site-packages (from huggingface-hub>=0.7.0->evaluate) (4.5.0)\n",
      "Requirement already satisfied: charset-normalizer<4,>=2 in c:\\users\\albii\\onedrive\\escritorio\\alba\\4\\tfg\\.venv\\lib\\site-packages (from requests>=2.19.0->evaluate) (3.1.0)\n",
      "Requirement already satisfied: idna<4,>=2.5 in c:\\users\\albii\\onedrive\\escritorio\\alba\\4\\tfg\\.venv\\lib\\site-packages (from requests>=2.19.0->evaluate) (3.4)\n",
      "Requirement already satisfied: urllib3<3,>=1.21.1 in c:\\users\\albii\\onedrive\\escritorio\\alba\\4\\tfg\\.venv\\lib\\site-packages (from requests>=2.19.0->evaluate) (1.26.15)\n",
      "Requirement already satisfied: certifi>=2017.4.17 in c:\\users\\albii\\onedrive\\escritorio\\alba\\4\\tfg\\.venv\\lib\\site-packages (from requests>=2.19.0->evaluate) (2023.5.7)\n",
      "Requirement already satisfied: colorama in c:\\users\\albii\\onedrive\\escritorio\\alba\\4\\tfg\\.venv\\lib\\site-packages (from tqdm>=4.62.1->evaluate) (0.4.6)\n",
      "Requirement already satisfied: python-dateutil>=2.8.2 in c:\\users\\albii\\onedrive\\escritorio\\alba\\4\\tfg\\.venv\\lib\\site-packages (from pandas->evaluate) (2.8.2)\n",
      "Requirement already satisfied: pytz>=2020.1 in c:\\users\\albii\\onedrive\\escritorio\\alba\\4\\tfg\\.venv\\lib\\site-packages (from pandas->evaluate) (2023.3)\n",
      "Requirement already satisfied: tzdata>=2022.1 in c:\\users\\albii\\onedrive\\escritorio\\alba\\4\\tfg\\.venv\\lib\\site-packages (from pandas->evaluate) (2023.3)\n",
      "Requirement already satisfied: attrs>=17.3.0 in c:\\users\\albii\\onedrive\\escritorio\\alba\\4\\tfg\\.venv\\lib\\site-packages (from aiohttp->datasets>=2.0.0->evaluate) (23.1.0)\n",
      "Requirement already satisfied: multidict<7.0,>=4.5 in c:\\users\\albii\\onedrive\\escritorio\\alba\\4\\tfg\\.venv\\lib\\site-packages (from aiohttp->datasets>=2.0.0->evaluate) (6.0.4)\n",
      "Requirement already satisfied: async-timeout<5.0,>=4.0.0a3 in c:\\users\\albii\\onedrive\\escritorio\\alba\\4\\tfg\\.venv\\lib\\site-packages (from aiohttp->datasets>=2.0.0->evaluate) (4.0.2)\n",
      "Requirement already satisfied: yarl<2.0,>=1.0 in c:\\users\\albii\\onedrive\\escritorio\\alba\\4\\tfg\\.venv\\lib\\site-packages (from aiohttp->datasets>=2.0.0->evaluate) (1.9.2)\n",
      "Requirement already satisfied: frozenlist>=1.1.1 in c:\\users\\albii\\onedrive\\escritorio\\alba\\4\\tfg\\.venv\\lib\\site-packages (from aiohttp->datasets>=2.0.0->evaluate) (1.3.3)\n",
      "Requirement already satisfied: aiosignal>=1.1.2 in c:\\users\\albii\\onedrive\\escritorio\\alba\\4\\tfg\\.venv\\lib\\site-packages (from aiohttp->datasets>=2.0.0->evaluate) (1.3.1)\n",
      "Requirement already satisfied: six>=1.5 in c:\\users\\albii\\onedrive\\escritorio\\alba\\4\\tfg\\.venv\\lib\\site-packages (from python-dateutil>=2.8.2->pandas->evaluate) (1.16.0)\n",
      "Note: you may need to restart the kernel to use updated packages.\n"
     ]
    },
    {
     "name": "stderr",
     "output_type": "stream",
     "text": [
      "\n",
      "[notice] A new release of pip is available: 23.1.2 -> 23.2.1\n",
      "[notice] To update, run: python.exe -m pip install --upgrade pip\n"
     ]
    }
   ],
   "source": [
    "#Previamente Instalar: transformers, datasets, wandb, torch\n",
    "%pip install datasets\n",
    "%pip install transformers\n",
    "%pip install wandb\n",
    "%pip install torch\n",
    "%pip install evaluate"
   ]
  },
  {
   "cell_type": "code",
   "execution_count": 2,
   "metadata": {
    "ExecuteTime": {
     "end_time": "2023-05-16T10:39:35.127814Z",
     "start_time": "2023-05-16T10:39:25.318612Z"
    },
    "executionInfo": {
     "elapsed": 18859,
     "status": "ok",
     "timestamp": 1682940805077,
     "user": {
      "displayName": "ALBA SANZ GARCIA",
      "userId": "07473662824620260012"
     },
     "user_tz": -120
    },
    "id": "W-Z5XKdr2w5P"
   },
   "outputs": [
    {
     "name": "stderr",
     "output_type": "stream",
     "text": [
      "c:\\Users\\albii\\OneDrive\\Escritorio\\ALBA\\4\\TFG\\.venv\\Lib\\site-packages\\tqdm\\auto.py:21: TqdmWarning: IProgress not found. Please update jupyter and ipywidgets. See https://ipywidgets.readthedocs.io/en/stable/user_install.html\n",
      "  from .autonotebook import tqdm as notebook_tqdm\n"
     ]
    }
   ],
   "source": [
    "#Realizamos los imports necesarios\n",
    "import os\n",
    "import logging\n",
    "\n",
    "import numpy as np\n",
    "\n",
    "from dataclasses import dataclass\n",
    "from typing import Dict, List, Optional, Union\n",
    "\n",
    "import torch\n",
    "import wandb\n",
    "\n",
    "from datasets import DatasetDict, load_from_disk\n",
    "from transformers import (\n",
    "    HubertForSequenceClassification,\n",
    "    HubertConfig,\n",
    "    Trainer,\n",
    "    TrainingArguments,\n",
    "    Wav2Vec2FeatureExtractor,\n",
    "    Wav2Vec2Processor,\n",
    "    EarlyStoppingCallback,\n",
    "    IntervalStrategy\n",
    ")\n",
    "\n",
    "\n",
    "logging.basicConfig(\n",
    "    format=\"%(asctime)s | %(levelname)s: %(message)s\", level=logging.INFO\n",
    ")"
   ]
  },
  {
   "cell_type": "code",
   "execution_count": 3,
   "metadata": {
    "ExecuteTime": {
     "end_time": "2023-05-16T10:59:32.745519Z",
     "start_time": "2023-05-16T10:59:28.935039Z"
    },
    "colab": {
     "base_uri": "https://localhost:8080/",
     "height": 141
    },
    "executionInfo": {
     "elapsed": 3081,
     "status": "ok",
     "timestamp": 1682940810291,
     "user": {
      "displayName": "ALBA SANZ GARCIA",
      "userId": "07473662824620260012"
     },
     "user_tz": -120
    },
    "id": "xbAJJFBCDX31",
    "outputId": "31d1f023-bf74-48e4-cdb0-1b6cafc2afd3"
   },
   "outputs": [
    {
     "name": "stderr",
     "output_type": "stream",
     "text": [
      "2023-09-05 01:07:34,171 | ERROR: Failed to detect the name of this notebook, you can set it manually with the WANDB_NOTEBOOK_NAME environment variable to enable code saving.\n",
      "\u001b[34m\u001b[1mwandb\u001b[0m: Currently logged in as: \u001b[33m100429064\u001b[0m. Use \u001b[1m`wandb login --relogin`\u001b[0m to force relogin\n"
     ]
    },
    {
     "data": {
      "text/html": [
       "wandb version 0.15.9 is available!  To upgrade, please run:\n",
       " $ pip install wandb --upgrade"
      ],
      "text/plain": [
       "<IPython.core.display.HTML object>"
      ]
     },
     "metadata": {},
     "output_type": "display_data"
    },
    {
     "data": {
      "text/html": [
       "Tracking run with wandb version 0.15.2"
      ],
      "text/plain": [
       "<IPython.core.display.HTML object>"
      ]
     },
     "metadata": {},
     "output_type": "display_data"
    },
    {
     "data": {
      "text/html": [
       "Run data is saved locally in <code>c:\\Users\\albii\\OneDrive\\Escritorio\\ALBA\\4\\TFG\\scripts\\wandb\\run-20230905_010736-6jtz2x64</code>"
      ],
      "text/plain": [
       "<IPython.core.display.HTML object>"
      ]
     },
     "metadata": {},
     "output_type": "display_data"
    },
    {
     "data": {
      "text/html": [
       "Syncing run <strong><a href='https://wandb.ai/100429064/SER-Project/runs/6jtz2x64' target=\"_blank\">laced-sound-66</a></strong> to <a href='https://wandb.ai/100429064/SER-Project' target=\"_blank\">Weights & Biases</a> (<a href='https://wandb.me/run' target=\"_blank\">docs</a>)<br/>"
      ],
      "text/plain": [
       "<IPython.core.display.HTML object>"
      ]
     },
     "metadata": {},
     "output_type": "display_data"
    },
    {
     "data": {
      "text/html": [
       " View project at <a href='https://wandb.ai/100429064/SER-Project' target=\"_blank\">https://wandb.ai/100429064/SER-Project</a>"
      ],
      "text/plain": [
       "<IPython.core.display.HTML object>"
      ]
     },
     "metadata": {},
     "output_type": "display_data"
    },
    {
     "data": {
      "text/html": [
       " View run at <a href='https://wandb.ai/100429064/SER-Project/runs/6jtz2x64' target=\"_blank\">https://wandb.ai/100429064/SER-Project/runs/6jtz2x64</a>"
      ],
      "text/plain": [
       "<IPython.core.display.HTML object>"
      ]
     },
     "metadata": {},
     "output_type": "display_data"
    },
    {
     "data": {
      "text/html": [
       "<button onClick=\"this.nextSibling.style.display='block';this.style.display='none';\">Display W&B run</button><iframe src='https://wandb.ai/100429064/SER-Project/runs/6jtz2x64?jupyter=true' style='border:none;width:100%;height:420px;display:none;'></iframe>"
      ],
      "text/plain": [
       "<wandb.sdk.wandb_run.Run at 0x231b387e1d0>"
      ]
     },
     "execution_count": 3,
     "metadata": {},
     "output_type": "execute_result"
    }
   ],
   "source": [
    "USER = \"100429064\"\n",
    "WANDB_PROJECT = \"SER-Project\"\n",
    "wandb.init(entity=USER, project=WANDB_PROJECT)"
   ]
  },
  {
   "cell_type": "code",
   "execution_count": 4,
   "metadata": {
    "ExecuteTime": {
     "end_time": "2023-05-16T11:01:15.298564Z",
     "start_time": "2023-05-16T11:01:15.280288Z"
    },
    "executionInfo": {
     "elapsed": 7,
     "status": "ok",
     "timestamp": 1682940810292,
     "user": {
      "displayName": "ALBA SANZ GARCIA",
      "userId": "07473662824620260012"
     },
     "user_tz": -120
    },
    "id": "ibwISWcF6Yse"
   },
   "outputs": [],
   "source": [
    "PROJECT_ROOT = 'C:/Users/albii/OneDrive/Escritorio/ALBA/4/TFG/'\n",
    "\n",
    "NUM_LABELS = 12"
   ]
  },
  {
   "cell_type": "code",
   "execution_count": 5,
   "metadata": {},
   "outputs": [],
   "source": [
    "model_id = \"facebook/hubert-base-ls960\"\n",
    "#model_id = os.path.join(PROJECT_ROOT, \"models_early/audio-model\")\n",
    "MODELS_DIR = os.path.join(PROJECT_ROOT, \"models_oficiales\")\n"
   ]
  },
  {
   "cell_type": "code",
   "execution_count": 6,
   "metadata": {
    "ExecuteTime": {
     "end_time": "2023-05-16T11:01:25.892751Z",
     "start_time": "2023-05-16T11:01:23.818081Z"
    },
    "colab": {
     "base_uri": "https://localhost:8080/"
    },
    "executionInfo": {
     "elapsed": 5375,
     "status": "ok",
     "timestamp": 1682940815662,
     "user": {
      "displayName": "ALBA SANZ GARCIA",
      "userId": "07473662824620260012"
     },
     "user_tz": -120
    },
    "id": "1-j82hS-57NU",
    "outputId": "cb0d134e-fff9-408c-b447-da05c7b8ab27"
   },
   "outputs": [
    {
     "name": "stderr",
     "output_type": "stream",
     "text": [
      "Some weights of HubertForSequenceClassification were not initialized from the model checkpoint at facebook/hubert-base-ls960 and are newly initialized: ['projector.bias', 'classifier.bias', 'projector.weight', 'classifier.weight']\n",
      "You should probably TRAIN this model on a down-stream task to be able to use it for predictions and inference.\n"
     ]
    }
   ],
   "source": [
    "#Cargando modelo preentrenado\n",
    "\n",
    "config2 = HubertConfig.from_pretrained(model_id, num_labels=NUM_LABELS)\n",
    "\n",
    "hubert_model = HubertForSequenceClassification.from_pretrained(\n",
    "    model_id,\n",
    "    config=config2,  # because we need to update num_labels as per our dataset\n",
    "    ignore_mismatched_sizes=True  # to avoid classifier size mismatch from from_pretrained.\n",
    ")\n"
   ]
  },
  {
   "cell_type": "code",
   "execution_count": 7,
   "metadata": {
    "ExecuteTime": {
     "end_time": "2023-05-16T11:01:31.077221Z",
     "start_time": "2023-05-16T11:01:31.051173Z"
    },
    "executionInfo": {
     "elapsed": 14,
     "status": "ok",
     "timestamp": 1682940815663,
     "user": {
      "displayName": "ALBA SANZ GARCIA",
      "userId": "07473662824620260012"
     },
     "user_tz": -120
    },
    "id": "EWm3zJpT6DrV"
   },
   "outputs": [],
   "source": [
    "#Unfreezing layers for fine-tuning\n",
    "\n",
    "# unfreeze all layers to begin with\n",
    "for param in hubert_model.parameters():\n",
    "    param.requires_grad = False\n",
    "\n",
    "\n",
    "layers_freeze_num = 2\n",
    "n_layers = (\n",
    "    4 + layers_freeze_num * 16\n",
    ")  # 4 refers to projector and classifier's weights and biases.\n",
    "for name, param in list(hubert_model.named_parameters())[-n_layers:]:\n",
    "    param.requires_grad = True"
   ]
  },
  {
   "cell_type": "code",
   "execution_count": 8,
   "metadata": {},
   "outputs": [],
   "source": [
    "#Cargamos el datast\n",
    "ds = load_from_disk(PROJECT_ROOT + 'datasets')"
   ]
  },
  {
   "cell_type": "code",
   "execution_count": 9,
   "metadata": {
    "executionInfo": {
     "elapsed": 7,
     "status": "ok",
     "timestamp": 1682940815664,
     "user": {
      "displayName": "ALBA SANZ GARCIA",
      "userId": "07473662824620260012"
     },
     "user_tz": -120
    },
    "id": "9Uz5HMfY9yiq"
   },
   "outputs": [],
   "source": [
    "wandb.log({\"dataset_size\": len(ds[\"train\"])})"
   ]
  },
  {
   "cell_type": "code",
   "execution_count": 10,
   "metadata": {
    "ExecuteTime": {
     "end_time": "2023-05-16T11:01:35.430022Z",
     "start_time": "2023-05-16T11:01:35.164010Z"
    },
    "colab": {
     "base_uri": "https://localhost:8080/",
     "height": 86,
     "referenced_widgets": [
      "440fc67eb67f45689cb0e922a4f3d8d1",
      "9c0fa484e02d40698c583e9f26e5e697",
      "706199793d3b40f38df6357b1e2f384e",
      "7befee1552d04164a2cbc16de288758a",
      "fc7c780826cc4e378e77411fcdf3601d",
      "e521c2c792b842a18c7f9b0940f54ed4",
      "fabc5f699ae940ba929e4f6b67e5b093",
      "60f143b99f8a4929901fe8f3f2fad272",
      "aea5e1943fc74037b2a7e0f97a97c35a",
      "660578329a7c41019ae68b33574e49f8",
      "52312e01484a4efda47be83d27d92d48"
     ]
    },
    "executionInfo": {
     "elapsed": 13,
     "status": "ok",
     "timestamp": 1682940815663,
     "user": {
      "displayName": "ALBA SANZ GARCIA",
      "userId": "07473662824620260012"
     },
     "user_tz": -120
    },
    "id": "Ni5Z1RrR6ShV",
    "outputId": "83db24bb-c96b-469e-9468-98429e418cae"
   },
   "outputs": [
    {
     "data": {
      "text/plain": [
       "'\\ntrainer_config = {\\n    \"OUTPUT_DIR\": \"results_ravdess3\",\\n    \"TRAIN_EPOCHS\": 5,\\n    \"TRAIN_BATCH_SIZE\": 32,\\n    \"EVAL_BATCH_SIZE\": 32,\\n    \"GRADIENT_ACCUMULATION_STEPS\": 4,\\n    \"WARMUP_STEPS\": 500,\\n    \"DECAY\": 0.01,\\n    \"LOGGING_STEPS\": 10,\\n    \"MODEL_DIR\": \"models_ravdess3/audio-model\",\\n    \"LR\": 1e-3,\\n}'"
      ]
     },
     "execution_count": 10,
     "metadata": {},
     "output_type": "execute_result"
    }
   ],
   "source": [
    "#Preparamos la configuracion del entrenamiento\n",
    "trainer_config = {\n",
    "  \"OUTPUT_DIR\": \"results_oficiales\",\n",
    "  \"TRAIN_EPOCHS\": 5,\n",
    "  \"TRAIN_BATCH_SIZE\": 32,\n",
    "  \"EVAL_BATCH_SIZE\": 32,\n",
    "  \"GRADIENT_ACCUMULATION_STEPS\": 4,\n",
    "  \"WARMUP_STEPS\": 500,\n",
    "  \"DECAY\": 0.01,\n",
    "  \"LOGGING_STEPS\": 10,\n",
    "  \"MODEL_DIR\": \"models_oficiales/audio-model\",\n",
    "  \"SAVE_STEPS\": 50,\n",
    "  \"LR\":1e-3\n",
    "}\n",
    "\n",
    "'''\n",
    "trainer_config = {\n",
    "    \"OUTPUT_DIR\": \"results_ravdess3\",\n",
    "    \"TRAIN_EPOCHS\": 5,\n",
    "    \"TRAIN_BATCH_SIZE\": 32,\n",
    "    \"EVAL_BATCH_SIZE\": 32,\n",
    "    \"GRADIENT_ACCUMULATION_STEPS\": 4,\n",
    "    \"WARMUP_STEPS\": 500,\n",
    "    \"DECAY\": 0.01,\n",
    "    \"LOGGING_STEPS\": 10,\n",
    "    \"MODEL_DIR\": \"models_ravdess3/audio-model\",\n",
    "    \"LR\": 1e-3,\n",
    "}'''"
   ]
  },
  {
   "cell_type": "code",
   "execution_count": 11,
   "metadata": {
    "executionInfo": {
     "elapsed": 3,
     "status": "ok",
     "timestamp": 1682940816029,
     "user": {
      "displayName": "ALBA SANZ GARCIA",
      "userId": "07473662824620260012"
     },
     "user_tz": -120
    },
    "id": "embcMPoQImMZ"
   },
   "outputs": [],
   "source": [
    "# INTRODUCE TRAIN TEST VAL SPLITS\n",
    "\n",
    "# 90% train, 10% test + validation\n",
    "train_testvalid = ds[\"train\"].train_test_split(shuffle=True, test_size=0.1)\n",
    "# Split the 10% test + valid in half test, half valid\n",
    "test_valid = train_testvalid['test'].train_test_split(test_size=0.5)\n",
    "# gather everyone if you want to have a single DatasetDict\n",
    "ds = DatasetDict({\n",
    "    'train': train_testvalid['train'],\n",
    "    'test': test_valid['test'],\n",
    "    'val': test_valid['train']})"
   ]
  },
  {
   "cell_type": "code",
   "execution_count": 12,
   "metadata": {},
   "outputs": [
    {
     "name": "stdout",
     "output_type": "stream",
     "text": [
      "DatasetDict({\n",
      "    train: Dataset({\n",
      "        features: ['file', 'label', 'array', 'input_values', 'labels'],\n",
      "        num_rows: 1467\n",
      "    })\n",
      "    test: Dataset({\n",
      "        features: ['file', 'label', 'array', 'input_values', 'labels'],\n",
      "        num_rows: 82\n",
      "    })\n",
      "    val: Dataset({\n",
      "        features: ['file', 'label', 'array', 'input_values', 'labels'],\n",
      "        num_rows: 82\n",
      "    })\n",
      "})\n"
     ]
    }
   ],
   "source": [
    "print(ds)"
   ]
  },
  {
   "cell_type": "code",
   "execution_count": 13,
   "metadata": {
    "executionInfo": {
     "elapsed": 3,
     "status": "ok",
     "timestamp": 1682940816029,
     "user": {
      "displayName": "ALBA SANZ GARCIA",
      "userId": "07473662824620260012"
     },
     "user_tz": -120
    },
    "id": "0bYsEMy8IsED"
   },
   "outputs": [
    {
     "data": {
      "text/plain": [
       "'\\ntraining_args = TrainingArguments(\\n    output_dir=os.path.join(\\n        PROJECT_ROOT, trainer_config[\"OUTPUT_DIR\"]\\n    ),  # output directory\\n    gradient_accumulation_steps=trainer_config[\\n        \"GRADIENT_ACCUMULATION_STEPS\"\\n    ],  # accumulate the gradients before running optimization step\\n    num_train_epochs=trainer_config[\"TRAIN_EPOCHS\"],  # total number of training epochs\\n    per_device_train_batch_size=trainer_config[\\n        \"TRAIN_BATCH_SIZE\"\\n    ],  # batch size per device during training\\n    per_device_eval_batch_size=trainer_config[\\n        \"EVAL_BATCH_SIZE\"\\n    ],  # batch size for evaluation\\n    warmup_steps=trainer_config[\\n        \"WARMUP_STEPS\"\\n    ],  # number of warmup steps for learning rate scheduler\\n    weight_decay=trainer_config[\"DECAY\"],  # strength of weight decay\\n    logging_steps=trainer_config[\"LOGGING_STEPS\"],\\n    evaluation_strategy=\"epoch\",  # report metric at end of each epoch\\n    report_to=\"wandb\",  # enable logging to W&B\\n    learning_rate=trainer_config[\"LR\"],  # default = 5e-5\\n)'"
      ]
     },
     "execution_count": 13,
     "metadata": {},
     "output_type": "execute_result"
    }
   ],
   "source": [
    "# Fine-Tuning with Trainer\n",
    "training_args = TrainingArguments(\n",
    "   f\"training_with_callbacks\",\n",
    "   evaluation_strategy = IntervalStrategy.STEPS, # \"steps\"\n",
    "   eval_steps = 50, # Evaluation and Save happens every 50 steps\n",
    "   save_total_limit = 5, # Only last 5 models are saved. Older ones are deleted.\n",
    "   learning_rate=trainer_config[\"LR\"],\n",
    "   per_device_train_batch_size=trainer_config[\"TRAIN_BATCH_SIZE\"],  \n",
    "    # batch size per device during training\n",
    "   per_device_eval_batch_size=trainer_config[\"EVAL_BATCH_SIZE\"],  \n",
    "    # batch size for evaluation\n",
    "   num_train_epochs=trainer_config[\"TRAIN_EPOCHS\"],  \n",
    "    # total number of training epochs\n",
    "   report_to=\"wandb\",\n",
    "   weight_decay=trainer_config[\"DECAY\"],  # strength of weight decay\n",
    "   push_to_hub=False,\n",
    "   metric_for_best_model = 'f1',\n",
    "   load_best_model_at_end=True)\n",
    "\n",
    "'''\n",
    "training_args = TrainingArguments(\n",
    "    output_dir=os.path.join(\n",
    "        PROJECT_ROOT, trainer_config[\"OUTPUT_DIR\"]\n",
    "    ),  # output directory\n",
    "    gradient_accumulation_steps=trainer_config[\n",
    "        \"GRADIENT_ACCUMULATION_STEPS\"\n",
    "    ],  # accumulate the gradients before running optimization step\n",
    "    num_train_epochs=trainer_config[\"TRAIN_EPOCHS\"],  # total number of training epochs\n",
    "    per_device_train_batch_size=trainer_config[\n",
    "        \"TRAIN_BATCH_SIZE\"\n",
    "    ],  # batch size per device during training\n",
    "    per_device_eval_batch_size=trainer_config[\n",
    "        \"EVAL_BATCH_SIZE\"\n",
    "    ],  # batch size for evaluation\n",
    "    warmup_steps=trainer_config[\n",
    "        \"WARMUP_STEPS\"\n",
    "    ],  # number of warmup steps for learning rate scheduler\n",
    "    weight_decay=trainer_config[\"DECAY\"],  # strength of weight decay\n",
    "    logging_steps=trainer_config[\"LOGGING_STEPS\"],\n",
    "    evaluation_strategy=\"epoch\",  # report metric at end of each epoch\n",
    "    report_to=\"wandb\",  # enable logging to W&B\n",
    "    learning_rate=trainer_config[\"LR\"],  # default = 5e-5\n",
    ")'''"
   ]
  },
  {
   "cell_type": "code",
   "execution_count": 14,
   "metadata": {
    "executionInfo": {
     "elapsed": 4,
     "status": "ok",
     "timestamp": 1682940816029,
     "user": {
      "displayName": "ALBA SANZ GARCIA",
      "userId": "07473662824620260012"
     },
     "user_tz": -120
    },
    "id": "8flUXgnE13iW"
   },
   "outputs": [
    {
     "data": {
      "text/plain": [
       "'\\ndef compute_metrics(eval_pred):\\n    # DEFINE EVALUATION METRIC\\n    compute_accuracy_metric = load_metric(\"accuracy\")\\n    logits, labels = eval_pred\\n    predictions = np.argmax(logits, axis=-1)\\n    return compute_accuracy_metric.compute(predictions=predictions, references=labels)'"
      ]
     },
     "execution_count": 14,
     "metadata": {},
     "output_type": "execute_result"
    }
   ],
   "source": [
    "@dataclass\n",
    "class DataCollatorCTCWithPadding:\n",
    "    processor: Wav2Vec2Processor\n",
    "    padding: Union[bool, str] = True\n",
    "    max_length: Optional[int] = None\n",
    "    max_length_labels: Optional[int] = None\n",
    "    pad_to_multiple_of: Optional[int] = None\n",
    "    pad_to_multiple_of_labels: Optional[int] = None\n",
    "\n",
    "    def __call__(\n",
    "        self, examples: List[Dict[str, Union[List[int], torch.Tensor]]]\n",
    "    ) -> Dict[str, torch.Tensor]:\n",
    "\n",
    "        input_features = [\n",
    "            {INPUT_FIELD: example[INPUT_FIELD]} for example in examples\n",
    "        ]  # example is basically row0, row1, etc...\n",
    "        labels = [example[LABEL_FIELD] for example in examples]\n",
    "\n",
    "        batch = self.processor.pad(\n",
    "            input_features,\n",
    "            padding=self.padding,\n",
    "            max_length=self.max_length,\n",
    "            pad_to_multiple_of=self.pad_to_multiple_of,\n",
    "            return_tensors=\"pt\",\n",
    "        )\n",
    "        batch[LABEL_FIELD] = torch.tensor(labels)\n",
    "\n",
    "        return batch\n",
    "    \n",
    "from datasets import load_metric\n",
    "import evaluate \n",
    "\n",
    "def compute_metrics(eval_pred):\n",
    "    # DEFINE EVALUATION METRIC\n",
    "    compute_f1_metric = evaluate.load('f1', average='macro')\n",
    "    logits, labels = eval_pred\n",
    "    predictions = np.argmax(logits, axis=-1)\n",
    "    return compute_f1_metric.compute(predictions=predictions, references=labels, average='macro')\n",
    "\n",
    "'''\n",
    "def compute_metrics(eval_pred):\n",
    "    # DEFINE EVALUATION METRIC\n",
    "    compute_accuracy_metric = load_metric(\"accuracy\")\n",
    "    logits, labels = eval_pred\n",
    "    predictions = np.argmax(logits, axis=-1)\n",
    "    return compute_accuracy_metric.compute(predictions=predictions, references=labels)'''\n"
   ]
  },
  {
   "cell_type": "code",
   "execution_count": 15,
   "metadata": {
    "executionInfo": {
     "elapsed": 3,
     "status": "ok",
     "timestamp": 1682940816029,
     "user": {
      "displayName": "ALBA SANZ GARCIA",
      "userId": "07473662824620260012"
     },
     "user_tz": -120
    },
    "id": "ZbW-qRYnBL_k"
   },
   "outputs": [],
   "source": [
    "feature_extractor = Wav2Vec2FeatureExtractor.from_pretrained(\"facebook/hubert-base-ls960\")\n",
    "\n",
    "data_collator = DataCollatorCTCWithPadding(\n",
    "            processor=feature_extractor,\n",
    "            padding=True\n",
    ")"
   ]
  },
  {
   "cell_type": "code",
   "execution_count": 16,
   "metadata": {
    "colab": {
     "base_uri": "https://localhost:8080/",
     "height": 130
    },
    "id": "jSnh0TRdJOkK",
    "outputId": "e560f0cc-eb8e-44e8-ec29-fdbc356ae2da"
   },
   "outputs": [
    {
     "name": "stderr",
     "output_type": "stream",
     "text": [
      "c:\\Users\\albii\\OneDrive\\Escritorio\\ALBA\\4\\TFG\\.venv\\Lib\\site-packages\\transformers\\optimization.py:391: FutureWarning: This implementation of AdamW is deprecated and will be removed in a future version. Use the PyTorch implementation torch.optim.AdamW instead, or set `no_deprecation_warning=True` to disable this warning\n",
      "  warnings.warn(\n",
      "                                                  \n",
      " 22%|██▏       | 50/230 [30:01<1:43:54, 34.64s/it]"
     ]
    },
    {
     "name": "stdout",
     "output_type": "stream",
     "text": [
      "{'eval_loss': 1.8382630348205566, 'eval_f1': 0.06158357771260998, 'eval_runtime': 47.7315, 'eval_samples_per_second': 1.718, 'eval_steps_per_second': 0.063, 'epoch': 1.09}\n"
     ]
    },
    {
     "name": "stderr",
     "output_type": "stream",
     "text": [
      "                                                   \n",
      " 43%|████▎     | 100/230 [58:17<1:08:35, 31.65s/it]"
     ]
    },
    {
     "name": "stdout",
     "output_type": "stream",
     "text": [
      "{'eval_loss': 1.866574764251709, 'eval_f1': 0.06158357771260998, 'eval_runtime': 43.734, 'eval_samples_per_second': 1.875, 'eval_steps_per_second': 0.069, 'epoch': 2.17}\n"
     ]
    },
    {
     "name": "stderr",
     "output_type": "stream",
     "text": [
      "                                                     \n",
      " 65%|██████▌   | 150/230 [1:26:41<45:24, 34.06s/it]"
     ]
    },
    {
     "name": "stdout",
     "output_type": "stream",
     "text": [
      "{'eval_loss': 1.8027015924453735, 'eval_f1': 0.06158357771260998, 'eval_runtime': 43.44, 'eval_samples_per_second': 1.888, 'eval_steps_per_second': 0.069, 'epoch': 3.26}\n"
     ]
    },
    {
     "name": "stderr",
     "output_type": "stream",
     "text": [
      "                                                     \n",
      " 87%|████████▋ | 200/230 [1:54:57<16:36, 33.22s/it]"
     ]
    },
    {
     "name": "stdout",
     "output_type": "stream",
     "text": [
      "{'eval_loss': 1.786604881286621, 'eval_f1': 0.06158357771260998, 'eval_runtime': 44.0315, 'eval_samples_per_second': 1.862, 'eval_steps_per_second': 0.068, 'epoch': 4.35}\n"
     ]
    },
    {
     "name": "stderr",
     "output_type": "stream",
     "text": [
      "100%|██████████| 230/230 [2:11:11<00:00, 34.22s/it]"
     ]
    },
    {
     "name": "stdout",
     "output_type": "stream",
     "text": [
      "{'train_runtime': 7871.0266, 'train_samples_per_second': 0.932, 'train_steps_per_second': 0.029, 'train_loss': 2.090205715013587, 'epoch': 5.0}\n"
     ]
    },
    {
     "name": "stderr",
     "output_type": "stream",
     "text": [
      "\n"
     ]
    },
    {
     "data": {
      "text/plain": [
       "TrainOutput(global_step=230, training_loss=2.090205715013587, metrics={'train_runtime': 7871.0266, 'train_samples_per_second': 0.932, 'train_steps_per_second': 0.029, 'train_loss': 2.090205715013587, 'epoch': 5.0})"
      ]
     },
     "execution_count": 16,
     "metadata": {},
     "output_type": "execute_result"
    }
   ],
   "source": [
    "# START TRAINING\n",
    "INPUT_FIELD = \"input_values\"\n",
    "LABEL_FIELD = \"labels\"\n",
    "\n",
    "'''trainer = Trainer(\n",
    "    model=hubert_model,  \n",
    "    args=training_args,  # training arguments, defined above\n",
    "    data_collator=data_collator,\n",
    "    train_dataset=ds[\"train\"],  # training dataset\n",
    "    eval_dataset=ds[\"val\"],  # evaluation dataset\n",
    "    compute_metrics=compute_metrics,\n",
    "    callbacks=[EarlyStoppingCallback(early_stopping_patience = 10)]\n",
    ")'''\n",
    "\n",
    "trainer = Trainer(\n",
    "    model=hubert_model,  \n",
    "    args=training_args,  # training arguments, defined above\n",
    "    data_collator=data_collator,\n",
    "    train_dataset=ds[\"train\"],  # training dataset\n",
    "    eval_dataset=ds[\"val\"],  # evaluation dataset\n",
    "    compute_metrics=compute_metrics,\n",
    ")\n",
    "\n",
    "trainer.train()"
   ]
  },
  {
   "cell_type": "code",
   "execution_count": 17,
   "metadata": {},
   "outputs": [
    {
     "name": "stderr",
     "output_type": "stream",
     "text": [
      "100%|██████████| 3/3 [00:26<00:00,  8.78s/it]\n",
      "2023-09-05 03:19:33,750 | INFO: Eval Set Result: {'eval_loss': 1.789774775505066, 'eval_f1': 0.06158357771260998, 'eval_runtime': 42.5046, 'eval_samples_per_second': 1.929, 'eval_steps_per_second': 0.071, 'epoch': 5.0}\n"
     ]
    }
   ],
   "source": [
    "# VALIDATION SET RESULTS\n",
    "logging.info(\"Eval Set Result: {}\".format(trainer.evaluate()))"
   ]
  },
  {
   "cell_type": "code",
   "execution_count": 19,
   "metadata": {},
   "outputs": [
    {
     "name": "stderr",
     "output_type": "stream",
     "text": [
      "100%|██████████| 3/3 [00:22<00:00,  7.47s/it]\n",
      "2023-09-05 09:36:23,224 | INFO: Test Set Result: {'test_loss': 1.8224576711654663, 'test_f1': 0.06333333333333334, 'test_runtime': 36.8426, 'test_samples_per_second': 2.226, 'test_steps_per_second': 0.081}\n"
     ]
    }
   ],
   "source": [
    "# TEST RESULTS\n",
    "test_results = trainer.predict(ds[\"test\"])\n",
    "logging.info(\"Test Set Result: {}\".format(test_results.metrics))\n",
    "wandb.log({\"test_f1\": test_results.metrics[\"test_f1\"]})\n",
    "\n",
    "trainer.save_model(os.path.join(PROJECT_ROOT, trainer_config[\"MODEL_DIR\"]))\n",
    "\n"
   ]
  },
  {
   "cell_type": "code",
   "execution_count": 20,
   "metadata": {},
   "outputs": [],
   "source": [
    "y_pred = np.argmax(test_results.predictions, axis=-1)\n",
    "y_true = test_results.label_ids"
   ]
  },
  {
   "cell_type": "code",
   "execution_count": 21,
   "metadata": {},
   "outputs": [
    {
     "name": "stdout",
     "output_type": "stream",
     "text": [
      "['/home/cmramirez/Desktop/Python/Alba/toDataset/cache_crema/downloads/extracted/8fb6db4bc114ea36fbb3059ee0c886de0c1bc4f6512d1198e2c7b936b51c48e7/AudioWAV/P011_VIDEO_3_CHUNK_8.wav', '/home/cmramirez/Desktop/Python/Alba/toDataset/cache_crema/downloads/extracted/8fb6db4bc114ea36fbb3059ee0c886de0c1bc4f6512d1198e2c7b936b51c48e7/AudioWAV/V098_VIDEO_14_CHUNK_8.wav', '/home/cmramirez/Desktop/Python/Alba/toDataset/cache_crema/downloads/extracted/8fb6db4bc114ea36fbb3059ee0c886de0c1bc4f6512d1198e2c7b936b51c48e7/AudioWAV/V082_VIDEO_6_CHUNK_2.wav', '/home/cmramirez/Desktop/Python/Alba/toDataset/cache_crema/downloads/extracted/8fb6db4bc114ea36fbb3059ee0c886de0c1bc4f6512d1198e2c7b936b51c48e7/AudioWAV/V088_VIDEO_10_CHUNK_4.wav', '/home/cmramirez/Desktop/Python/Alba/toDataset/cache_crema/downloads/extracted/8fb6db4bc114ea36fbb3059ee0c886de0c1bc4f6512d1198e2c7b936b51c48e7/AudioWAV/V115_VIDEO_2_CHUNK_3.wav', '/home/cmramirez/Desktop/Python/Alba/toDataset/cache_crema/downloads/extracted/8fb6db4bc114ea36fbb3059ee0c886de0c1bc4f6512d1198e2c7b936b51c48e7/AudioWAV/P009_VIDEO_11_CHUNK_5.wav', '/home/cmramirez/Desktop/Python/Alba/toDataset/cache_crema/downloads/extracted/8fb6db4bc114ea36fbb3059ee0c886de0c1bc4f6512d1198e2c7b936b51c48e7/AudioWAV/V049_VIDEO_1_CHUNK_0.wav', '/home/cmramirez/Desktop/Python/Alba/toDataset/cache_crema/downloads/extracted/8fb6db4bc114ea36fbb3059ee0c886de0c1bc4f6512d1198e2c7b936b51c48e7/AudioWAV/V034_VIDEO_1_CHUNK_3.wav', '/home/cmramirez/Desktop/Python/Alba/toDataset/cache_crema/downloads/extracted/8fb6db4bc114ea36fbb3059ee0c886de0c1bc4f6512d1198e2c7b936b51c48e7/AudioWAV/V094_VIDEO_9_CHUNK_0.wav', '/home/cmramirez/Desktop/Python/Alba/toDataset/cache_crema/downloads/extracted/8fb6db4bc114ea36fbb3059ee0c886de0c1bc4f6512d1198e2c7b936b51c48e7/AudioWAV/V119_VIDEO_10_CHUNK_1.wav', '/home/cmramirez/Desktop/Python/Alba/toDataset/cache_crema/downloads/extracted/8fb6db4bc114ea36fbb3059ee0c886de0c1bc4f6512d1198e2c7b936b51c48e7/AudioWAV/V038_VIDEO_9_CHUNK_2.wav', '/home/cmramirez/Desktop/Python/Alba/toDataset/cache_crema/downloads/extracted/8fb6db4bc114ea36fbb3059ee0c886de0c1bc4f6512d1198e2c7b936b51c48e7/AudioWAV/P033_VIDEO_5_CHUNK_13.wav', '/home/cmramirez/Desktop/Python/Alba/toDataset/cache_crema/downloads/extracted/8fb6db4bc114ea36fbb3059ee0c886de0c1bc4f6512d1198e2c7b936b51c48e7/AudioWAV/V109_VIDEO_12_CHUNK_1.wav', '/home/cmramirez/Desktop/Python/Alba/toDataset/cache_crema/downloads/extracted/8fb6db4bc114ea36fbb3059ee0c886de0c1bc4f6512d1198e2c7b936b51c48e7/AudioWAV/P035_VIDEO_12_CHUNK_2.wav', '/home/cmramirez/Desktop/Python/Alba/toDataset/cache_crema/downloads/extracted/8fb6db4bc114ea36fbb3059ee0c886de0c1bc4f6512d1198e2c7b936b51c48e7/AudioWAV/V091_VIDEO_14_CHUNK_12.wav', '/home/cmramirez/Desktop/Python/Alba/toDataset/cache_crema/downloads/extracted/8fb6db4bc114ea36fbb3059ee0c886de0c1bc4f6512d1198e2c7b936b51c48e7/AudioWAV/P004_VIDEO_6_CHUNK_5.wav', '/home/cmramirez/Desktop/Python/Alba/toDataset/cache_crema/downloads/extracted/8fb6db4bc114ea36fbb3059ee0c886de0c1bc4f6512d1198e2c7b936b51c48e7/AudioWAV/V056_VIDEO_14_CHUNK_12.wav', '/home/cmramirez/Desktop/Python/Alba/toDataset/cache_crema/downloads/extracted/8fb6db4bc114ea36fbb3059ee0c886de0c1bc4f6512d1198e2c7b936b51c48e7/AudioWAV/V116_VIDEO_1_CHUNK_10.wav', '/home/cmramirez/Desktop/Python/Alba/toDataset/cache_crema/downloads/extracted/8fb6db4bc114ea36fbb3059ee0c886de0c1bc4f6512d1198e2c7b936b51c48e7/AudioWAV/P065_VIDEO_2_CHUNK_4.wav', '/home/cmramirez/Desktop/Python/Alba/toDataset/cache_crema/downloads/extracted/8fb6db4bc114ea36fbb3059ee0c886de0c1bc4f6512d1198e2c7b936b51c48e7/AudioWAV/P065_VIDEO_8_CHUNK_3.wav', '/home/cmramirez/Desktop/Python/Alba/toDataset/cache_crema/downloads/extracted/8fb6db4bc114ea36fbb3059ee0c886de0c1bc4f6512d1198e2c7b936b51c48e7/AudioWAV/V059_VIDEO_8_CHUNK_5.wav', '/home/cmramirez/Desktop/Python/Alba/toDataset/cache_crema/downloads/extracted/8fb6db4bc114ea36fbb3059ee0c886de0c1bc4f6512d1198e2c7b936b51c48e7/AudioWAV/V040_VIDEO_3_CHUNK_3.wav', '/home/cmramirez/Desktop/Python/Alba/toDataset/cache_crema/downloads/extracted/8fb6db4bc114ea36fbb3059ee0c886de0c1bc4f6512d1198e2c7b936b51c48e7/AudioWAV/V096_VIDEO_9_CHUNK_0.wav', '/home/cmramirez/Desktop/Python/Alba/toDataset/cache_crema/downloads/extracted/8fb6db4bc114ea36fbb3059ee0c886de0c1bc4f6512d1198e2c7b936b51c48e7/AudioWAV/V082_VIDEO_10_CHUNK_9.wav', '/home/cmramirez/Desktop/Python/Alba/toDataset/cache_crema/downloads/extracted/8fb6db4bc114ea36fbb3059ee0c886de0c1bc4f6512d1198e2c7b936b51c48e7/AudioWAV/PX05_VIDEO_2_CHUNK_2.wav', '/home/cmramirez/Desktop/Python/Alba/toDataset/cache_crema/downloads/extracted/8fb6db4bc114ea36fbb3059ee0c886de0c1bc4f6512d1198e2c7b936b51c48e7/AudioWAV/V027_VIDEO_4_CHUNK_11.wav', '/home/cmramirez/Desktop/Python/Alba/toDataset/cache_crema/downloads/extracted/8fb6db4bc114ea36fbb3059ee0c886de0c1bc4f6512d1198e2c7b936b51c48e7/AudioWAV/V050_VIDEO_11_CHUNK_7.wav', '/home/cmramirez/Desktop/Python/Alba/toDataset/cache_crema/downloads/extracted/8fb6db4bc114ea36fbb3059ee0c886de0c1bc4f6512d1198e2c7b936b51c48e7/AudioWAV/P063_VIDEO_1_CHUNK_4.wav', '/home/cmramirez/Desktop/Python/Alba/toDataset/cache_crema/downloads/extracted/8fb6db4bc114ea36fbb3059ee0c886de0c1bc4f6512d1198e2c7b936b51c48e7/AudioWAV/V057_VIDEO_12_CHUNK_3.wav', '/home/cmramirez/Desktop/Python/Alba/toDataset/cache_crema/downloads/extracted/8fb6db4bc114ea36fbb3059ee0c886de0c1bc4f6512d1198e2c7b936b51c48e7/AudioWAV/P049_VIDEO_11_CHUNK_4.wav', '/home/cmramirez/Desktop/Python/Alba/toDataset/cache_crema/downloads/extracted/8fb6db4bc114ea36fbb3059ee0c886de0c1bc4f6512d1198e2c7b936b51c48e7/AudioWAV/V103_VIDEO_1_CHUNK_3.wav', '/home/cmramirez/Desktop/Python/Alba/toDataset/cache_crema/downloads/extracted/8fb6db4bc114ea36fbb3059ee0c886de0c1bc4f6512d1198e2c7b936b51c48e7/AudioWAV/P048_VIDEO_8_CHUNK_10.wav', '/home/cmramirez/Desktop/Python/Alba/toDataset/cache_crema/downloads/extracted/8fb6db4bc114ea36fbb3059ee0c886de0c1bc4f6512d1198e2c7b936b51c48e7/AudioWAV/P009_VIDEO_13_CHUNK_7.wav', '/home/cmramirez/Desktop/Python/Alba/toDataset/cache_crema/downloads/extracted/8fb6db4bc114ea36fbb3059ee0c886de0c1bc4f6512d1198e2c7b936b51c48e7/AudioWAV/V120_VIDEO_6_CHUNK_1.wav', '/home/cmramirez/Desktop/Python/Alba/toDataset/cache_crema/downloads/extracted/8fb6db4bc114ea36fbb3059ee0c886de0c1bc4f6512d1198e2c7b936b51c48e7/AudioWAV/V094_VIDEO_1_CHUNK_4.wav', '/home/cmramirez/Desktop/Python/Alba/toDataset/cache_crema/downloads/extracted/8fb6db4bc114ea36fbb3059ee0c886de0c1bc4f6512d1198e2c7b936b51c48e7/AudioWAV/P048_VIDEO_7_CHUNK_9.wav', '/home/cmramirez/Desktop/Python/Alba/toDataset/cache_crema/downloads/extracted/8fb6db4bc114ea36fbb3059ee0c886de0c1bc4f6512d1198e2c7b936b51c48e7/AudioWAV/V109_VIDEO_3_CHUNK_0.wav', '/home/cmramirez/Desktop/Python/Alba/toDataset/cache_crema/downloads/extracted/8fb6db4bc114ea36fbb3059ee0c886de0c1bc4f6512d1198e2c7b936b51c48e7/AudioWAV/P029_VIDEO_1_CHUNK_13.wav', '/home/cmramirez/Desktop/Python/Alba/toDataset/cache_crema/downloads/extracted/8fb6db4bc114ea36fbb3059ee0c886de0c1bc4f6512d1198e2c7b936b51c48e7/AudioWAV/V067_VIDEO_6_CHUNK_14.wav', '/home/cmramirez/Desktop/Python/Alba/toDataset/cache_crema/downloads/extracted/8fb6db4bc114ea36fbb3059ee0c886de0c1bc4f6512d1198e2c7b936b51c48e7/AudioWAV/V114_VIDEO_12_CHUNK_2.wav', '/home/cmramirez/Desktop/Python/Alba/toDataset/cache_crema/downloads/extracted/8fb6db4bc114ea36fbb3059ee0c886de0c1bc4f6512d1198e2c7b936b51c48e7/AudioWAV/V031_VIDEO_2_CHUNK_2.wav', '/home/cmramirez/Desktop/Python/Alba/toDataset/cache_crema/downloads/extracted/8fb6db4bc114ea36fbb3059ee0c886de0c1bc4f6512d1198e2c7b936b51c48e7/AudioWAV/V008_VIDEO_14_CHUNK_1.wav', '/home/cmramirez/Desktop/Python/Alba/toDataset/cache_crema/downloads/extracted/8fb6db4bc114ea36fbb3059ee0c886de0c1bc4f6512d1198e2c7b936b51c48e7/AudioWAV/P004_VIDEO_6_CHUNK_14.wav', '/home/cmramirez/Desktop/Python/Alba/toDataset/cache_crema/downloads/extracted/8fb6db4bc114ea36fbb3059ee0c886de0c1bc4f6512d1198e2c7b936b51c48e7/AudioWAV/V083_VIDEO_5_CHUNK_1.wav', '/home/cmramirez/Desktop/Python/Alba/toDataset/cache_crema/downloads/extracted/8fb6db4bc114ea36fbb3059ee0c886de0c1bc4f6512d1198e2c7b936b51c48e7/AudioWAV/V134_VIDEO_1_CHUNK_9.wav', '/home/cmramirez/Desktop/Python/Alba/toDataset/cache_crema/downloads/extracted/8fb6db4bc114ea36fbb3059ee0c886de0c1bc4f6512d1198e2c7b936b51c48e7/AudioWAV/P013_VIDEO_13_CHUNK_6.wav', '/home/cmramirez/Desktop/Python/Alba/toDataset/cache_crema/downloads/extracted/8fb6db4bc114ea36fbb3059ee0c886de0c1bc4f6512d1198e2c7b936b51c48e7/AudioWAV/V126_VIDEO_4_CHUNK_2.wav', '/home/cmramirez/Desktop/Python/Alba/toDataset/cache_crema/downloads/extracted/8fb6db4bc114ea36fbb3059ee0c886de0c1bc4f6512d1198e2c7b936b51c48e7/AudioWAV/V067_VIDEO_6_CHUNK_0.wav', '/home/cmramirez/Desktop/Python/Alba/toDataset/cache_crema/downloads/extracted/8fb6db4bc114ea36fbb3059ee0c886de0c1bc4f6512d1198e2c7b936b51c48e7/AudioWAV/V055_VIDEO_7_CHUNK_4.wav', '/home/cmramirez/Desktop/Python/Alba/toDataset/cache_crema/downloads/extracted/8fb6db4bc114ea36fbb3059ee0c886de0c1bc4f6512d1198e2c7b936b51c48e7/AudioWAV/P070_VIDEO_5_CHUNK_6.wav', '/home/cmramirez/Desktop/Python/Alba/toDataset/cache_crema/downloads/extracted/8fb6db4bc114ea36fbb3059ee0c886de0c1bc4f6512d1198e2c7b936b51c48e7/AudioWAV/P045_VIDEO_5_CHUNK_8.wav', '/home/cmramirez/Desktop/Python/Alba/toDataset/cache_crema/downloads/extracted/8fb6db4bc114ea36fbb3059ee0c886de0c1bc4f6512d1198e2c7b936b51c48e7/AudioWAV/V047_VIDEO_7_CHUNK_7.wav', '/home/cmramirez/Desktop/Python/Alba/toDataset/cache_crema/downloads/extracted/8fb6db4bc114ea36fbb3059ee0c886de0c1bc4f6512d1198e2c7b936b51c48e7/AudioWAV/V066_VIDEO_5_CHUNK_0.wav', '/home/cmramirez/Desktop/Python/Alba/toDataset/cache_crema/downloads/extracted/8fb6db4bc114ea36fbb3059ee0c886de0c1bc4f6512d1198e2c7b936b51c48e7/AudioWAV/V081_VIDEO_12_CHUNK_2.wav', '/home/cmramirez/Desktop/Python/Alba/toDataset/cache_crema/downloads/extracted/8fb6db4bc114ea36fbb3059ee0c886de0c1bc4f6512d1198e2c7b936b51c48e7/AudioWAV/P048_VIDEO_5_CHUNK_0.wav', '/home/cmramirez/Desktop/Python/Alba/toDataset/cache_crema/downloads/extracted/8fb6db4bc114ea36fbb3059ee0c886de0c1bc4f6512d1198e2c7b936b51c48e7/AudioWAV/V054_VIDEO_4_CHUNK_2.wav', '/home/cmramirez/Desktop/Python/Alba/toDataset/cache_crema/downloads/extracted/8fb6db4bc114ea36fbb3059ee0c886de0c1bc4f6512d1198e2c7b936b51c48e7/AudioWAV/P048_VIDEO_6_CHUNK_5.wav', '/home/cmramirez/Desktop/Python/Alba/toDataset/cache_crema/downloads/extracted/8fb6db4bc114ea36fbb3059ee0c886de0c1bc4f6512d1198e2c7b936b51c48e7/AudioWAV/PX01_VIDEO_7_CHUNK_7.wav', '/home/cmramirez/Desktop/Python/Alba/toDataset/cache_crema/downloads/extracted/8fb6db4bc114ea36fbb3059ee0c886de0c1bc4f6512d1198e2c7b936b51c48e7/AudioWAV/P033_VIDEO_5_CHUNK_5.wav', '/home/cmramirez/Desktop/Python/Alba/toDataset/cache_crema/downloads/extracted/8fb6db4bc114ea36fbb3059ee0c886de0c1bc4f6512d1198e2c7b936b51c48e7/AudioWAV/V032_VIDEO_3_CHUNK_1.wav', '/home/cmramirez/Desktop/Python/Alba/toDataset/cache_crema/downloads/extracted/8fb6db4bc114ea36fbb3059ee0c886de0c1bc4f6512d1198e2c7b936b51c48e7/AudioWAV/P024_VIDEO_11_CHUNK_8.wav', '/home/cmramirez/Desktop/Python/Alba/toDataset/cache_crema/downloads/extracted/8fb6db4bc114ea36fbb3059ee0c886de0c1bc4f6512d1198e2c7b936b51c48e7/AudioWAV/V135_VIDEO_11_CHUNK_4.wav', '/home/cmramirez/Desktop/Python/Alba/toDataset/cache_crema/downloads/extracted/8fb6db4bc114ea36fbb3059ee0c886de0c1bc4f6512d1198e2c7b936b51c48e7/AudioWAV/V008_VIDEO_7_CHUNK_11.wav', '/home/cmramirez/Desktop/Python/Alba/toDataset/cache_crema/downloads/extracted/8fb6db4bc114ea36fbb3059ee0c886de0c1bc4f6512d1198e2c7b936b51c48e7/AudioWAV/V063_VIDEO_2_CHUNK_1.wav', '/home/cmramirez/Desktop/Python/Alba/toDataset/cache_crema/downloads/extracted/8fb6db4bc114ea36fbb3059ee0c886de0c1bc4f6512d1198e2c7b936b51c48e7/AudioWAV/V028_VIDEO_4_CHUNK_4.wav', '/home/cmramirez/Desktop/Python/Alba/toDataset/cache_crema/downloads/extracted/8fb6db4bc114ea36fbb3059ee0c886de0c1bc4f6512d1198e2c7b936b51c48e7/AudioWAV/PX04_VIDEO_2_CHUNK_1.wav', '/home/cmramirez/Desktop/Python/Alba/toDataset/cache_crema/downloads/extracted/8fb6db4bc114ea36fbb3059ee0c886de0c1bc4f6512d1198e2c7b936b51c48e7/AudioWAV/P015_VIDEO_1_CHUNK_1.wav', '/home/cmramirez/Desktop/Python/Alba/toDataset/cache_crema/downloads/extracted/8fb6db4bc114ea36fbb3059ee0c886de0c1bc4f6512d1198e2c7b936b51c48e7/AudioWAV/V063_VIDEO_5_CHUNK_9.wav', '/home/cmramirez/Desktop/Python/Alba/toDataset/cache_crema/downloads/extracted/8fb6db4bc114ea36fbb3059ee0c886de0c1bc4f6512d1198e2c7b936b51c48e7/AudioWAV/V002_VIDEO_4_CHUNK_3.wav', '/home/cmramirez/Desktop/Python/Alba/toDataset/cache_crema/downloads/extracted/8fb6db4bc114ea36fbb3059ee0c886de0c1bc4f6512d1198e2c7b936b51c48e7/AudioWAV/P045_VIDEO_3_CHUNK_5.wav', '/home/cmramirez/Desktop/Python/Alba/toDataset/cache_crema/downloads/extracted/8fb6db4bc114ea36fbb3059ee0c886de0c1bc4f6512d1198e2c7b936b51c48e7/AudioWAV/P059_VIDEO_3_CHUNK_3.wav', '/home/cmramirez/Desktop/Python/Alba/toDataset/cache_crema/downloads/extracted/8fb6db4bc114ea36fbb3059ee0c886de0c1bc4f6512d1198e2c7b936b51c48e7/AudioWAV/P029_VIDEO_6_CHUNK_7.wav', '/home/cmramirez/Desktop/Python/Alba/toDataset/cache_crema/downloads/extracted/8fb6db4bc114ea36fbb3059ee0c886de0c1bc4f6512d1198e2c7b936b51c48e7/AudioWAV/V063_VIDEO_8_CHUNK_4.wav', '/home/cmramirez/Desktop/Python/Alba/toDataset/cache_crema/downloads/extracted/8fb6db4bc114ea36fbb3059ee0c886de0c1bc4f6512d1198e2c7b936b51c48e7/AudioWAV/V096_VIDEO_12_CHUNK_14.wav', '/home/cmramirez/Desktop/Python/Alba/toDataset/cache_crema/downloads/extracted/8fb6db4bc114ea36fbb3059ee0c886de0c1bc4f6512d1198e2c7b936b51c48e7/AudioWAV/P007_VIDEO_13_CHUNK_4.wav', '/home/cmramirez/Desktop/Python/Alba/toDataset/cache_crema/downloads/extracted/8fb6db4bc114ea36fbb3059ee0c886de0c1bc4f6512d1198e2c7b936b51c48e7/AudioWAV/V061_VIDEO_14_CHUNK_0.wav', '/home/cmramirez/Desktop/Python/Alba/toDataset/cache_crema/downloads/extracted/8fb6db4bc114ea36fbb3059ee0c886de0c1bc4f6512d1198e2c7b936b51c48e7/AudioWAV/P029_VIDEO_2_CHUNK_0.wav', '/home/cmramirez/Desktop/Python/Alba/toDataset/cache_crema/downloads/extracted/8fb6db4bc114ea36fbb3059ee0c886de0c1bc4f6512d1198e2c7b936b51c48e7/AudioWAV/P017_VIDEO_13_CHUNK_4.wav', '/home/cmramirez/Desktop/Python/Alba/toDataset/cache_crema/downloads/extracted/8fb6db4bc114ea36fbb3059ee0c886de0c1bc4f6512d1198e2c7b936b51c48e7/AudioWAV/V055_VIDEO_2_CHUNK_9.wav', '/home/cmramirez/Desktop/Python/Alba/toDataset/cache_crema/downloads/extracted/8fb6db4bc114ea36fbb3059ee0c886de0c1bc4f6512d1198e2c7b936b51c48e7/AudioWAV/V019_VIDEO_4_CHUNK_6.wav', '/home/cmramirez/Desktop/Python/Alba/toDataset/cache_crema/downloads/extracted/8fb6db4bc114ea36fbb3059ee0c886de0c1bc4f6512d1198e2c7b936b51c48e7/AudioWAV/V020_VIDEO_14_CHUNK_4.wav', '/home/cmramirez/Desktop/Python/Alba/toDataset/cache_crema/downloads/extracted/8fb6db4bc114ea36fbb3059ee0c886de0c1bc4f6512d1198e2c7b936b51c48e7/AudioWAV/V081_VIDEO_10_CHUNK_0.wav']\n",
      "[ 8  8 10  8  1  2  1  1  9  8  2  8 11  8  8 10  8  8  8  8  8 11  2  4\n",
      "  1  8  1  8  4 10  8  8  6 10  8  8 10  8 10  8  8  8 10  0 10  6  2 10\n",
      "  7  4  8  2  8  8  8  7  8  2  8 11  1  2  7  4  7  1  1  8  7  8  8 10\n",
      "  8  8  6  8  1 10  8  8  8  8]\n"
     ]
    }
   ],
   "source": [
    "print(ds['test']['file'])\n",
    "print(y_true)\n"
   ]
  },
  {
   "cell_type": "code",
   "execution_count": 23,
   "metadata": {},
   "outputs": [
    {
     "name": "stderr",
     "output_type": "stream",
     "text": [
      "\n",
      "[notice] A new release of pip is available: 23.1.2 -> 23.2.1\n",
      "[notice] To update, run: python.exe -m pip install --upgrade pip\n"
     ]
    },
    {
     "name": "stdout",
     "output_type": "stream",
     "text": [
      "Requirement already satisfied: matplotlib in c:\\users\\albii\\onedrive\\escritorio\\alba\\4\\tfg\\.venv\\lib\\site-packages (3.7.1)\n",
      "Requirement already satisfied: contourpy>=1.0.1 in c:\\users\\albii\\onedrive\\escritorio\\alba\\4\\tfg\\.venv\\lib\\site-packages (from matplotlib) (1.1.0)\n",
      "Requirement already satisfied: cycler>=0.10 in c:\\users\\albii\\onedrive\\escritorio\\alba\\4\\tfg\\.venv\\lib\\site-packages (from matplotlib) (0.11.0)\n",
      "Requirement already satisfied: fonttools>=4.22.0 in c:\\users\\albii\\onedrive\\escritorio\\alba\\4\\tfg\\.venv\\lib\\site-packages (from matplotlib) (4.40.0)\n",
      "Requirement already satisfied: kiwisolver>=1.0.1 in c:\\users\\albii\\onedrive\\escritorio\\alba\\4\\tfg\\.venv\\lib\\site-packages (from matplotlib) (1.4.4)\n",
      "Requirement already satisfied: numpy>=1.20 in c:\\users\\albii\\onedrive\\escritorio\\alba\\4\\tfg\\.venv\\lib\\site-packages (from matplotlib) (1.24.3)\n",
      "Requirement already satisfied: packaging>=20.0 in c:\\users\\albii\\onedrive\\escritorio\\alba\\4\\tfg\\.venv\\lib\\site-packages (from matplotlib) (23.1)\n",
      "Requirement already satisfied: pillow>=6.2.0 in c:\\users\\albii\\onedrive\\escritorio\\alba\\4\\tfg\\.venv\\lib\\site-packages (from matplotlib) (9.5.0)\n",
      "Requirement already satisfied: pyparsing>=2.3.1 in c:\\users\\albii\\onedrive\\escritorio\\alba\\4\\tfg\\.venv\\lib\\site-packages (from matplotlib) (3.0.9)\n",
      "Requirement already satisfied: python-dateutil>=2.7 in c:\\users\\albii\\onedrive\\escritorio\\alba\\4\\tfg\\.venv\\lib\\site-packages (from matplotlib) (2.8.2)\n",
      "Requirement already satisfied: six>=1.5 in c:\\users\\albii\\onedrive\\escritorio\\alba\\4\\tfg\\.venv\\lib\\site-packages (from python-dateutil>=2.7->matplotlib) (1.16.0)\n",
      "Note: you may need to restart the kernel to use updated packages.\n"
     ]
    },
    {
     "ename": "ValueError",
     "evalue": "The number of FixedLocator locations (10), usually from a call to set_ticks, does not match the number of labels (11).",
     "output_type": "error",
     "traceback": [
      "\u001b[1;31m---------------------------------------------------------------------------\u001b[0m",
      "\u001b[1;31mValueError\u001b[0m                                Traceback (most recent call last)",
      "Cell \u001b[1;32mIn[23], line 12\u001b[0m\n\u001b[0;32m      5\u001b[0m confusion_matrix \u001b[39m=\u001b[39m metrics\u001b[39m.\u001b[39mconfusion_matrix(y_true, y_pred)\n\u001b[0;32m      7\u001b[0m cm_display \u001b[39m=\u001b[39m metrics\u001b[39m.\u001b[39mConfusionMatrixDisplay(confusion_matrix \u001b[39m=\u001b[39m confusion_matrix, \n\u001b[0;32m      8\u001b[0m                                             display_labels \u001b[39m=\u001b[39m [\u001b[39m'\u001b[39m\u001b[39mAb\u001b[39m\u001b[39m'\u001b[39m,\u001b[39m'\u001b[39m\u001b[39mAleg\u001b[39m\u001b[39m'\u001b[39m,\u001b[39m'\u001b[39m\u001b[39mAsc\u001b[39m\u001b[39m'\u001b[39m,\u001b[39m'\u001b[39m\u001b[39mAtrac\u001b[39m\u001b[39m'\u001b[39m,\u001b[39m'\u001b[39m\u001b[39mDesp\u001b[39m\u001b[39m'\u001b[39m,\n\u001b[0;32m      9\u001b[0m                                                               \u001b[39m'\u001b[39m\u001b[39mEsp\u001b[39m\u001b[39m'\u001b[39m,\u001b[39m'\u001b[39m\u001b[39mGrat\u001b[39m\u001b[39m'\u001b[39m, \u001b[39m'\u001b[39m\u001b[39mIra\u001b[39m\u001b[39m'\u001b[39m, \u001b[39m'\u001b[39m\u001b[39mMied\u001b[39m\u001b[39m'\u001b[39m\n\u001b[0;32m     10\u001b[0m                                                               \u001b[39m'\u001b[39m\u001b[39mSorp\u001b[39m\u001b[39m'\u001b[39m, \u001b[39m'\u001b[39m\u001b[39mTranq\u001b[39m\u001b[39m'\u001b[39m, \u001b[39m'\u001b[39m\u001b[39mTris\u001b[39m\u001b[39m'\u001b[39m])\n\u001b[1;32m---> 12\u001b[0m cm_display\u001b[39m.\u001b[39;49mplot()\n\u001b[0;32m     13\u001b[0m plt\u001b[39m.\u001b[39msavefig(PROJECT_ROOT \u001b[39m+\u001b[39m \u001b[39m'\u001b[39m\u001b[39mMatrizConfusion_oficial.png\u001b[39m\u001b[39m'\u001b[39m)\n\u001b[0;32m     14\u001b[0m plt\u001b[39m.\u001b[39mshow()\n",
      "File \u001b[1;32mc:\\Users\\albii\\OneDrive\\Escritorio\\ALBA\\4\\TFG\\.venv\\Lib\\site-packages\\sklearn\\metrics\\_plot\\confusion_matrix.py:181\u001b[0m, in \u001b[0;36mConfusionMatrixDisplay.plot\u001b[1;34m(self, include_values, cmap, xticks_rotation, values_format, ax, colorbar, im_kw, text_kw)\u001b[0m\n\u001b[0;32m    179\u001b[0m \u001b[39mif\u001b[39;00m colorbar:\n\u001b[0;32m    180\u001b[0m     fig\u001b[39m.\u001b[39mcolorbar(\u001b[39mself\u001b[39m\u001b[39m.\u001b[39mim_, ax\u001b[39m=\u001b[39max)\n\u001b[1;32m--> 181\u001b[0m ax\u001b[39m.\u001b[39;49mset(\n\u001b[0;32m    182\u001b[0m     xticks\u001b[39m=\u001b[39;49mnp\u001b[39m.\u001b[39;49marange(n_classes),\n\u001b[0;32m    183\u001b[0m     yticks\u001b[39m=\u001b[39;49mnp\u001b[39m.\u001b[39;49marange(n_classes),\n\u001b[0;32m    184\u001b[0m     xticklabels\u001b[39m=\u001b[39;49mdisplay_labels,\n\u001b[0;32m    185\u001b[0m     yticklabels\u001b[39m=\u001b[39;49mdisplay_labels,\n\u001b[0;32m    186\u001b[0m     ylabel\u001b[39m=\u001b[39;49m\u001b[39m\"\u001b[39;49m\u001b[39mTrue label\u001b[39;49m\u001b[39m\"\u001b[39;49m,\n\u001b[0;32m    187\u001b[0m     xlabel\u001b[39m=\u001b[39;49m\u001b[39m\"\u001b[39;49m\u001b[39mPredicted label\u001b[39;49m\u001b[39m\"\u001b[39;49m,\n\u001b[0;32m    188\u001b[0m )\n\u001b[0;32m    190\u001b[0m ax\u001b[39m.\u001b[39mset_ylim((n_classes \u001b[39m-\u001b[39m \u001b[39m0.5\u001b[39m, \u001b[39m-\u001b[39m\u001b[39m0.5\u001b[39m))\n\u001b[0;32m    191\u001b[0m plt\u001b[39m.\u001b[39msetp(ax\u001b[39m.\u001b[39mget_xticklabels(), rotation\u001b[39m=\u001b[39mxticks_rotation)\n",
      "File \u001b[1;32mc:\\Users\\albii\\OneDrive\\Escritorio\\ALBA\\4\\TFG\\.venv\\Lib\\site-packages\\matplotlib\\artist.py:147\u001b[0m, in \u001b[0;36mArtist.__init_subclass__.<locals>.<lambda>\u001b[1;34m(self, **kwargs)\u001b[0m\n\u001b[0;32m    139\u001b[0m \u001b[39mif\u001b[39;00m \u001b[39mnot\u001b[39;00m \u001b[39mhasattr\u001b[39m(\u001b[39mcls\u001b[39m\u001b[39m.\u001b[39mset, \u001b[39m'\u001b[39m\u001b[39m_autogenerated_signature\u001b[39m\u001b[39m'\u001b[39m):\n\u001b[0;32m    140\u001b[0m     \u001b[39m# Don't overwrite cls.set if the subclass or one of its parents\u001b[39;00m\n\u001b[0;32m    141\u001b[0m     \u001b[39m# has defined a set method set itself.\u001b[39;00m\n\u001b[0;32m    142\u001b[0m     \u001b[39m# If there was no explicit definition, cls.set is inherited from\u001b[39;00m\n\u001b[0;32m    143\u001b[0m     \u001b[39m# the hierarchy of auto-generated set methods, which hold the\u001b[39;00m\n\u001b[0;32m    144\u001b[0m     \u001b[39m# flag _autogenerated_signature.\u001b[39;00m\n\u001b[0;32m    145\u001b[0m     \u001b[39mreturn\u001b[39;00m\n\u001b[1;32m--> 147\u001b[0m \u001b[39mcls\u001b[39m\u001b[39m.\u001b[39mset \u001b[39m=\u001b[39m \u001b[39mlambda\u001b[39;00m \u001b[39mself\u001b[39m, \u001b[39m*\u001b[39m\u001b[39m*\u001b[39mkwargs: Artist\u001b[39m.\u001b[39;49mset(\u001b[39mself\u001b[39;49m, \u001b[39m*\u001b[39;49m\u001b[39m*\u001b[39;49mkwargs)\n\u001b[0;32m    148\u001b[0m \u001b[39mcls\u001b[39m\u001b[39m.\u001b[39mset\u001b[39m.\u001b[39m\u001b[39m__name__\u001b[39m \u001b[39m=\u001b[39m \u001b[39m\"\u001b[39m\u001b[39mset\u001b[39m\u001b[39m\"\u001b[39m\n\u001b[0;32m    149\u001b[0m \u001b[39mcls\u001b[39m\u001b[39m.\u001b[39mset\u001b[39m.\u001b[39m\u001b[39m__qualname__\u001b[39m \u001b[39m=\u001b[39m \u001b[39mf\u001b[39m\u001b[39m\"\u001b[39m\u001b[39m{\u001b[39;00m\u001b[39mcls\u001b[39m\u001b[39m.\u001b[39m\u001b[39m__qualname__\u001b[39m\u001b[39m}\u001b[39;00m\u001b[39m.set\u001b[39m\u001b[39m\"\u001b[39m\n",
      "File \u001b[1;32mc:\\Users\\albii\\OneDrive\\Escritorio\\ALBA\\4\\TFG\\.venv\\Lib\\site-packages\\matplotlib\\artist.py:1231\u001b[0m, in \u001b[0;36mArtist.set\u001b[1;34m(self, **kwargs)\u001b[0m\n\u001b[0;32m   1227\u001b[0m \u001b[39mdef\u001b[39;00m \u001b[39mset\u001b[39m(\u001b[39mself\u001b[39m, \u001b[39m*\u001b[39m\u001b[39m*\u001b[39mkwargs):\n\u001b[0;32m   1228\u001b[0m     \u001b[39m# docstring and signature are auto-generated via\u001b[39;00m\n\u001b[0;32m   1229\u001b[0m     \u001b[39m# Artist._update_set_signature_and_docstring() at the end of the\u001b[39;00m\n\u001b[0;32m   1230\u001b[0m     \u001b[39m# module.\u001b[39;00m\n\u001b[1;32m-> 1231\u001b[0m     \u001b[39mreturn\u001b[39;00m \u001b[39mself\u001b[39;49m\u001b[39m.\u001b[39;49m_internal_update(cbook\u001b[39m.\u001b[39;49mnormalize_kwargs(kwargs, \u001b[39mself\u001b[39;49m))\n",
      "File \u001b[1;32mc:\\Users\\albii\\OneDrive\\Escritorio\\ALBA\\4\\TFG\\.venv\\Lib\\site-packages\\matplotlib\\artist.py:1223\u001b[0m, in \u001b[0;36mArtist._internal_update\u001b[1;34m(self, kwargs)\u001b[0m\n\u001b[0;32m   1216\u001b[0m \u001b[39mdef\u001b[39;00m \u001b[39m_internal_update\u001b[39m(\u001b[39mself\u001b[39m, kwargs):\n\u001b[0;32m   1217\u001b[0m \u001b[39m    \u001b[39m\u001b[39m\"\"\"\u001b[39;00m\n\u001b[0;32m   1218\u001b[0m \u001b[39m    Update artist properties without prenormalizing them, but generating\u001b[39;00m\n\u001b[0;32m   1219\u001b[0m \u001b[39m    errors as if calling `set`.\u001b[39;00m\n\u001b[0;32m   1220\u001b[0m \n\u001b[0;32m   1221\u001b[0m \u001b[39m    The lack of prenormalization is to maintain backcompatibility.\u001b[39;00m\n\u001b[0;32m   1222\u001b[0m \u001b[39m    \"\"\"\u001b[39;00m\n\u001b[1;32m-> 1223\u001b[0m     \u001b[39mreturn\u001b[39;00m \u001b[39mself\u001b[39;49m\u001b[39m.\u001b[39;49m_update_props(\n\u001b[0;32m   1224\u001b[0m         kwargs, \u001b[39m\"\u001b[39;49m\u001b[39m{cls.__name__}\u001b[39;49;00m\u001b[39m.set() got an unexpected keyword argument \u001b[39;49m\u001b[39m\"\u001b[39;49m\n\u001b[0;32m   1225\u001b[0m         \u001b[39m\"\u001b[39;49m\u001b[39m{prop_name!r}\u001b[39;49;00m\u001b[39m\"\u001b[39;49m)\n",
      "File \u001b[1;32mc:\\Users\\albii\\OneDrive\\Escritorio\\ALBA\\4\\TFG\\.venv\\Lib\\site-packages\\matplotlib\\artist.py:1199\u001b[0m, in \u001b[0;36mArtist._update_props\u001b[1;34m(self, props, errfmt)\u001b[0m\n\u001b[0;32m   1196\u001b[0m             \u001b[39mif\u001b[39;00m \u001b[39mnot\u001b[39;00m \u001b[39mcallable\u001b[39m(func):\n\u001b[0;32m   1197\u001b[0m                 \u001b[39mraise\u001b[39;00m \u001b[39mAttributeError\u001b[39;00m(\n\u001b[0;32m   1198\u001b[0m                     errfmt\u001b[39m.\u001b[39mformat(\u001b[39mcls\u001b[39m\u001b[39m=\u001b[39m\u001b[39mtype\u001b[39m(\u001b[39mself\u001b[39m), prop_name\u001b[39m=\u001b[39mk))\n\u001b[1;32m-> 1199\u001b[0m             ret\u001b[39m.\u001b[39mappend(func(v))\n\u001b[0;32m   1200\u001b[0m \u001b[39mif\u001b[39;00m ret:\n\u001b[0;32m   1201\u001b[0m     \u001b[39mself\u001b[39m\u001b[39m.\u001b[39mpchanged()\n",
      "File \u001b[1;32mc:\\Users\\albii\\OneDrive\\Escritorio\\ALBA\\4\\TFG\\.venv\\Lib\\site-packages\\matplotlib\\axes\\_base.py:74\u001b[0m, in \u001b[0;36m_axis_method_wrapper.__set_name__.<locals>.wrapper\u001b[1;34m(self, *args, **kwargs)\u001b[0m\n\u001b[0;32m     73\u001b[0m \u001b[39mdef\u001b[39;00m \u001b[39mwrapper\u001b[39m(\u001b[39mself\u001b[39m, \u001b[39m*\u001b[39margs, \u001b[39m*\u001b[39m\u001b[39m*\u001b[39mkwargs):\n\u001b[1;32m---> 74\u001b[0m     \u001b[39mreturn\u001b[39;00m get_method(\u001b[39mself\u001b[39;49m)(\u001b[39m*\u001b[39;49margs, \u001b[39m*\u001b[39;49m\u001b[39m*\u001b[39;49mkwargs)\n",
      "File \u001b[1;32mc:\\Users\\albii\\OneDrive\\Escritorio\\ALBA\\4\\TFG\\.venv\\Lib\\site-packages\\matplotlib\\_api\\deprecation.py:297\u001b[0m, in \u001b[0;36mrename_parameter.<locals>.wrapper\u001b[1;34m(*args, **kwargs)\u001b[0m\n\u001b[0;32m    292\u001b[0m     warn_deprecated(\n\u001b[0;32m    293\u001b[0m         since, message\u001b[39m=\u001b[39m\u001b[39mf\u001b[39m\u001b[39m\"\u001b[39m\u001b[39mThe \u001b[39m\u001b[39m{\u001b[39;00mold\u001b[39m!r}\u001b[39;00m\u001b[39m parameter of \u001b[39m\u001b[39m{\u001b[39;00mfunc\u001b[39m.\u001b[39m\u001b[39m__name__\u001b[39m\u001b[39m}\u001b[39;00m\u001b[39m() \u001b[39m\u001b[39m\"\u001b[39m\n\u001b[0;32m    294\u001b[0m         \u001b[39mf\u001b[39m\u001b[39m\"\u001b[39m\u001b[39mhas been renamed \u001b[39m\u001b[39m{\u001b[39;00mnew\u001b[39m!r}\u001b[39;00m\u001b[39m since Matplotlib \u001b[39m\u001b[39m{\u001b[39;00msince\u001b[39m}\u001b[39;00m\u001b[39m; support \u001b[39m\u001b[39m\"\u001b[39m\n\u001b[0;32m    295\u001b[0m         \u001b[39mf\u001b[39m\u001b[39m\"\u001b[39m\u001b[39mfor the old name will be dropped %(removal)s.\u001b[39m\u001b[39m\"\u001b[39m)\n\u001b[0;32m    296\u001b[0m     kwargs[new] \u001b[39m=\u001b[39m kwargs\u001b[39m.\u001b[39mpop(old)\n\u001b[1;32m--> 297\u001b[0m \u001b[39mreturn\u001b[39;00m func(\u001b[39m*\u001b[39;49margs, \u001b[39m*\u001b[39;49m\u001b[39m*\u001b[39;49mkwargs)\n",
      "File \u001b[1;32mc:\\Users\\albii\\OneDrive\\Escritorio\\ALBA\\4\\TFG\\.venv\\Lib\\site-packages\\matplotlib\\axis.py:1969\u001b[0m, in \u001b[0;36mAxis.set_ticklabels\u001b[1;34m(self, labels, minor, fontdict, **kwargs)\u001b[0m\n\u001b[0;32m   1965\u001b[0m \u001b[39mif\u001b[39;00m \u001b[39misinstance\u001b[39m(locator, mticker\u001b[39m.\u001b[39mFixedLocator):\n\u001b[0;32m   1966\u001b[0m     \u001b[39m# Passing [] as a list of labels is often used as a way to\u001b[39;00m\n\u001b[0;32m   1967\u001b[0m     \u001b[39m# remove all tick labels, so only error for > 0 labels\u001b[39;00m\n\u001b[0;32m   1968\u001b[0m     \u001b[39mif\u001b[39;00m \u001b[39mlen\u001b[39m(locator\u001b[39m.\u001b[39mlocs) \u001b[39m!=\u001b[39m \u001b[39mlen\u001b[39m(labels) \u001b[39mand\u001b[39;00m \u001b[39mlen\u001b[39m(labels) \u001b[39m!=\u001b[39m \u001b[39m0\u001b[39m:\n\u001b[1;32m-> 1969\u001b[0m         \u001b[39mraise\u001b[39;00m \u001b[39mValueError\u001b[39;00m(\n\u001b[0;32m   1970\u001b[0m             \u001b[39m\"\u001b[39m\u001b[39mThe number of FixedLocator locations\u001b[39m\u001b[39m\"\u001b[39m\n\u001b[0;32m   1971\u001b[0m             \u001b[39mf\u001b[39m\u001b[39m\"\u001b[39m\u001b[39m (\u001b[39m\u001b[39m{\u001b[39;00m\u001b[39mlen\u001b[39m(locator\u001b[39m.\u001b[39mlocs)\u001b[39m}\u001b[39;00m\u001b[39m), usually from a call to\u001b[39m\u001b[39m\"\u001b[39m\n\u001b[0;32m   1972\u001b[0m             \u001b[39m\"\u001b[39m\u001b[39m set_ticks, does not match\u001b[39m\u001b[39m\"\u001b[39m\n\u001b[0;32m   1973\u001b[0m             \u001b[39mf\u001b[39m\u001b[39m\"\u001b[39m\u001b[39m the number of labels (\u001b[39m\u001b[39m{\u001b[39;00m\u001b[39mlen\u001b[39m(labels)\u001b[39m}\u001b[39;00m\u001b[39m).\u001b[39m\u001b[39m\"\u001b[39m)\n\u001b[0;32m   1974\u001b[0m     tickd \u001b[39m=\u001b[39m {loc: lab \u001b[39mfor\u001b[39;00m loc, lab \u001b[39min\u001b[39;00m \u001b[39mzip\u001b[39m(locator\u001b[39m.\u001b[39mlocs, labels)}\n\u001b[0;32m   1975\u001b[0m     func \u001b[39m=\u001b[39m functools\u001b[39m.\u001b[39mpartial(\u001b[39mself\u001b[39m\u001b[39m.\u001b[39m_format_with_dict, tickd)\n",
      "\u001b[1;31mValueError\u001b[0m: The number of FixedLocator locations (10), usually from a call to set_ticks, does not match the number of labels (11)."
     ]
    },
    {
     "data": {
      "image/png": "[encoded data removed]",
      "text/plain": [
       "<Figure size 640x480 with 2 Axes>"
      ]
     },
     "metadata": {},
     "output_type": "display_data"
    }
   ],
   "source": [
    "%pip install matplotlib\n",
    "import matplotlib.pyplot as plt\n",
    "from sklearn import metrics\n",
    "\n",
    "confusion_matrix = metrics.confusion_matrix(y_true, y_pred)\n",
    "\n",
    "cm_display = metrics.ConfusionMatrixDisplay(confusion_matrix = confusion_matrix, \n",
    "                                            display_labels = ['Ab','Aleg','Asc','Atrac','Desp',\n",
    "                                                              'Esp','Grat', 'Ira', 'Mied'\n",
    "                                                              'Sorp', 'Tranq', 'Tris'])\n",
    "\n",
    "cm_display.plot()\n",
    "plt.savefig(PROJECT_ROOT + 'MatrizConfusion_oficial.png')\n",
    "plt.show()\n"
   ]
  },
  {
   "cell_type": "code",
   "execution_count": 24,
   "metadata": {},
   "outputs": [
    {
     "name": "stderr",
     "output_type": "stream",
     "text": [
      "\u001b[34m\u001b[1mwandb\u001b[0m: \u001b[33mWARNING\u001b[0m Saving files without folders. If you want to preserve sub directories pass base_path to wandb.save, i.e. wandb.save(\"/mnt/folder/file.h5\", base_path=\"/mnt\")\n"
     ]
    },
    {
     "data": {
      "text/html": [
       "Waiting for W&B process to finish... <strong style=\"color:green\">(success).</strong>"
      ],
      "text/plain": [
       "<IPython.core.display.HTML object>"
      ]
     },
     "metadata": {},
     "output_type": "display_data"
    },
    {
     "data": {
      "text/html": [
       "<style>\n",
       "    table.wandb td:nth-child(1) { padding: 0 10px; text-align: left ; width: auto;} td:nth-child(2) {text-align: left ; width: 100%}\n",
       "    .wandb-row { display: flex; flex-direction: row; flex-wrap: wrap; justify-content: flex-start; width: 100% }\n",
       "    .wandb-col { display: flex; flex-direction: column; flex-basis: 100%; flex: 1; padding: 10px; }\n",
       "    </style>\n",
       "<div class=\"wandb-row\"><div class=\"wandb-col\"><h3>Run history:</h3><br/><table class=\"wandb\"><tr><td>dataset_size</td><td>▁</td></tr><tr><td>eval/f1</td><td>▁▁▁▁▁</td></tr><tr><td>eval/loss</td><td>▆█▂▁▁</td></tr><tr><td>eval/runtime</td><td>█▃▂▃▁</td></tr><tr><td>eval/samples_per_second</td><td>▁▆▇▆█</td></tr><tr><td>eval/steps_per_second</td><td>▁▆▆▅█</td></tr><tr><td>test_f1</td><td>▁</td></tr><tr><td>train/epoch</td><td>▁▃▅▇██</td></tr><tr><td>train/global_step</td><td>▁▃▅▇███</td></tr><tr><td>train/total_flos</td><td>▁</td></tr><tr><td>train/train_loss</td><td>▁</td></tr><tr><td>train/train_runtime</td><td>▁</td></tr><tr><td>train/train_samples_per_second</td><td>▁</td></tr><tr><td>train/train_steps_per_second</td><td>▁</td></tr></table><br/></div><div class=\"wandb-col\"><h3>Run summary:</h3><br/><table class=\"wandb\"><tr><td>dataset_size</td><td>1631</td></tr><tr><td>eval/f1</td><td>0.06158</td></tr><tr><td>eval/loss</td><td>1.78977</td></tr><tr><td>eval/runtime</td><td>42.5046</td></tr><tr><td>eval/samples_per_second</td><td>1.929</td></tr><tr><td>eval/steps_per_second</td><td>0.071</td></tr><tr><td>test_f1</td><td>0.06333</td></tr><tr><td>train/epoch</td><td>5.0</td></tr><tr><td>train/global_step</td><td>230</td></tr><tr><td>train/total_flos</td><td>2.663743204224e+17</td></tr><tr><td>train/train_loss</td><td>2.09021</td></tr><tr><td>train/train_runtime</td><td>7871.0266</td></tr><tr><td>train/train_samples_per_second</td><td>0.932</td></tr><tr><td>train/train_steps_per_second</td><td>0.029</td></tr></table><br/></div></div>"
      ],
      "text/plain": [
       "<IPython.core.display.HTML object>"
      ]
     },
     "metadata": {},
     "output_type": "display_data"
    },
    {
     "data": {
      "text/html": [
       " View run <strong style=\"color:#cdcd00\">laced-sound-66</strong> at: <a href='https://wandb.ai/100429064/SER-Project/runs/6jtz2x64' target=\"_blank\">https://wandb.ai/100429064/SER-Project/runs/6jtz2x64</a><br/>Synced 5 W&B file(s), 0 media file(s), 0 artifact file(s) and 0 other file(s)"
      ],
      "text/plain": [
       "<IPython.core.display.HTML object>"
      ]
     },
     "metadata": {},
     "output_type": "display_data"
    },
    {
     "data": {
      "text/html": [
       "Find logs at: <code>.\\wandb\\run-20230905_010736-6jtz2x64\\logs</code>"
      ],
      "text/plain": [
       "<IPython.core.display.HTML object>"
      ]
     },
     "metadata": {},
     "output_type": "display_data"
    }
   ],
   "source": [
    "wandb.save(PROJECT_ROOT + trainer_config[\"MODEL_DIR\"], policy=\"end\")\n",
    "wandb.run.finish()"
   ]
  },
  {
   "cell_type": "code",
   "execution_count": 25,
   "metadata": {},
   "outputs": [
    {
     "name": "stderr",
     "output_type": "stream",
     "text": [
      "C:\\Users\\albii\\AppData\\Local\\Temp\\ipykernel_17516\\416743513.py:1: FutureWarning: load_metric is deprecated and will be removed in the next major version of datasets. Use 'evaluate.load' instead, from the new library 🤗 Evaluate: https://huggingface.co/docs/evaluate\n",
      "  accuracy = load_metric(\"accuracy\").compute(predictions=y_pred, references=y_true)\n"
     ]
    },
    {
     "name": "stdout",
     "output_type": "stream",
     "text": [
      "{'accuracy': 0.4634146341463415} {'recall': 0.1} {'precision': 0.046341463414634146}\n"
     ]
    },
    {
     "name": "stderr",
     "output_type": "stream",
     "text": [
      "c:\\Users\\albii\\OneDrive\\Escritorio\\ALBA\\4\\TFG\\.venv\\Lib\\site-packages\\sklearn\\metrics\\_classification.py:1344: UndefinedMetricWarning: Precision is ill-defined and being set to 0.0 in labels with no predicted samples. Use `zero_division` parameter to control this behavior.\n",
      "  _warn_prf(average, modifier, msg_start, len(result))\n"
     ]
    }
   ],
   "source": [
    "accuracy = load_metric(\"accuracy\").compute(predictions=y_pred, references=y_true)\n",
    "#f1 = load_metric(\"f1\").compute(predictions=y_pred, references=y_true, average = 'macro')  \n",
    "recall = load_metric(\"recall\").compute(predictions=y_pred, references=y_true, average = 'macro')\n",
    "precision = load_metric(\"precision\").compute(predictions=y_pred, references=y_true, average = 'macro')\n",
    "\n",
    "print(accuracy, recall, precision)"
   ]
  }
 ],
 "metadata": {
  "colab": {
   "authorship_tag": "ABX9TyO+LXOo4gn9LbxF68ztfrFK",
   "provenance": []
  },
  "kernelspec": {
   "display_name": "Python 3 (ipykernel)",
   "language": "python",
   "name": "python3"
  },
  "language_info": {
   "codemirror_mode": {
    "name": "ipython",
    "version": 3
   },
   "file_extension": ".py",
   "mimetype": "text/x-python",
   "name": "python",
   "nbconvert_exporter": "python",
   "pygments_lexer": "ipython3",
   "version": "3.11.3"
  },
  "widgets": {
   "application/vnd.jupyter.widget-state+json": {
    "440fc67eb67f45689cb0e922a4f3d8d1": {
     "model_module": "@jupyter-widgets/controls",
     "model_module_version": "1.5.0",
     "model_name": "HBoxModel",
     "state": {
      "_dom_classes": [],
      "_model_module": "@jupyter-widgets/controls",
      "_model_module_version": "1.5.0",
      "_model_name": "HBoxModel",
      "_view_count": null,
      "_view_module": "@jupyter-widgets/controls",
      "_view_module_version": "1.5.0",
      "_view_name": "HBoxView",
      "box_style": "",
      "children": [
       "IPY_MODEL_9c0fa484e02d40698c583e9f26e5e697",
       "IPY_MODEL_706199793d3b40f38df6357b1e2f384e",
       "IPY_MODEL_7befee1552d04164a2cbc16de288758a"
      ],
      "layout": "IPY_MODEL_fc7c780826cc4e378e77411fcdf3601d"
     }
    },
    "52312e01484a4efda47be83d27d92d48": {
     "model_module": "@jupyter-widgets/controls",
     "model_module_version": "1.5.0",
     "model_name": "DescriptionStyleModel",
     "state": {
      "_model_module": "@jupyter-widgets/controls",
      "_model_module_version": "1.5.0",
      "_model_name": "DescriptionStyleModel",
      "_view_count": null,
      "_view_module": "@jupyter-widgets/base",
      "_view_module_version": "1.2.0",
      "_view_name": "StyleView",
      "description_width": ""
     }
    },
    "60f143b99f8a4929901fe8f3f2fad272": {
     "model_module": "@jupyter-widgets/base",
     "model_module_version": "1.2.0",
     "model_name": "LayoutModel",
     "state": {
      "_model_module": "@jupyter-widgets/base",
      "_model_module_version": "1.2.0",
      "_model_name": "LayoutModel",
      "_view_count": null,
      "_view_module": "@jupyter-widgets/base",
      "_view_module_version": "1.2.0",
      "_view_name": "LayoutView",
      "align_content": null,
      "align_items": null,
      "align_self": null,
      "border": null,
      "bottom": null,
      "display": null,
      "flex": null,
      "flex_flow": null,
      "grid_area": null,
      "grid_auto_columns": null,
      "grid_auto_flow": null,
      "grid_auto_rows": null,
      "grid_column": null,
      "grid_gap": null,
      "grid_row": null,
      "grid_template_areas": null,
      "grid_template_columns": null,
      "grid_template_rows": null,
      "height": null,
      "justify_content": null,
      "justify_items": null,
      "left": null,
      "margin": null,
      "max_height": null,
      "max_width": null,
      "min_height": null,
      "min_width": null,
      "object_fit": null,
      "object_position": null,
      "order": null,
      "overflow": null,
      "overflow_x": null,
      "overflow_y": null,
      "padding": null,
      "right": null,
      "top": null,
      "visibility": null,
      "width": null
     }
    },
    "660578329a7c41019ae68b33574e49f8": {
     "model_module": "@jupyter-widgets/base",
     "model_module_version": "1.2.0",
     "model_name": "LayoutModel",
     "state": {
      "_model_module": "@jupyter-widgets/base",
      "_model_module_version": "1.2.0",
      "_model_name": "LayoutModel",
      "_view_count": null,
      "_view_module": "@jupyter-widgets/base",
      "_view_module_version": "1.2.0",
      "_view_name": "LayoutView",
      "align_content": null,
      "align_items": null,
      "align_self": null,
      "border": null,
      "bottom": null,
      "display": null,
      "flex": null,
      "flex_flow": null,
      "grid_area": null,
      "grid_auto_columns": null,
      "grid_auto_flow": null,
      "grid_auto_rows": null,
      "grid_column": null,
      "grid_gap": null,
      "grid_row": null,
      "grid_template_areas": null,
      "grid_template_columns": null,
      "grid_template_rows": null,
      "height": null,
      "justify_content": null,
      "justify_items": null,
      "left": null,
      "margin": null,
      "max_height": null,
      "max_width": null,
      "min_height": null,
      "min_width": null,
      "object_fit": null,
      "object_position": null,
      "order": null,
      "overflow": null,
      "overflow_x": null,
      "overflow_y": null,
      "padding": null,
      "right": null,
      "top": null,
      "visibility": null,
      "width": null
     }
    },
    "706199793d3b40f38df6357b1e2f384e": {
     "model_module": "@jupyter-widgets/controls",
     "model_module_version": "1.5.0",
     "model_name": "FloatProgressModel",
     "state": {
      "_dom_classes": [],
      "_model_module": "@jupyter-widgets/controls",
      "_model_module_version": "1.5.0",
      "_model_name": "FloatProgressModel",
      "_view_count": null,
      "_view_module": "@jupyter-widgets/controls",
      "_view_module_version": "1.5.0",
      "_view_name": "ProgressView",
      "bar_style": "success",
      "description": "",
      "description_tooltip": null,
      "layout": "IPY_MODEL_60f143b99f8a4929901fe8f3f2fad272",
      "max": 1,
      "min": 0,
      "orientation": "horizontal",
      "style": "IPY_MODEL_aea5e1943fc74037b2a7e0f97a97c35a",
      "value": 1
     }
    },
    "7befee1552d04164a2cbc16de288758a": {
     "model_module": "@jupyter-widgets/controls",
     "model_module_version": "1.5.0",
     "model_name": "HTMLModel",
     "state": {
      "_dom_classes": [],
      "_model_module": "@jupyter-widgets/controls",
      "_model_module_version": "1.5.0",
      "_model_name": "HTMLModel",
      "_view_count": null,
      "_view_module": "@jupyter-widgets/controls",
      "_view_module_version": "1.5.0",
      "_view_name": "HTMLView",
      "description": "",
      "description_tooltip": null,
      "layout": "IPY_MODEL_660578329a7c41019ae68b33574e49f8",
      "placeholder": "​",
      "style": "IPY_MODEL_52312e01484a4efda47be83d27d92d48",
      "value": " 1/1 [00:00&lt;00:00, 15.86it/s]"
     }
    },
    "9c0fa484e02d40698c583e9f26e5e697": {
     "model_module": "@jupyter-widgets/controls",
     "model_module_version": "1.5.0",
     "model_name": "HTMLModel",
     "state": {
      "_dom_classes": [],
      "_model_module": "@jupyter-widgets/controls",
      "_model_module_version": "1.5.0",
      "_model_name": "HTMLModel",
      "_view_count": null,
      "_view_module": "@jupyter-widgets/controls",
      "_view_module_version": "1.5.0",
      "_view_name": "HTMLView",
      "description": "",
      "description_tooltip": null,
      "layout": "IPY_MODEL_e521c2c792b842a18c7f9b0940f54ed4",
      "placeholder": "​",
      "style": "IPY_MODEL_fabc5f699ae940ba929e4f6b67e5b093",
      "value": "100%"
     }
    },
    "aea5e1943fc74037b2a7e0f97a97c35a": {
     "model_module": "@jupyter-widgets/controls",
     "model_module_version": "1.5.0",
     "model_name": "ProgressStyleModel",
     "state": {
      "_model_module": "@jupyter-widgets/controls",
      "_model_module_version": "1.5.0",
      "_model_name": "ProgressStyleModel",
      "_view_count": null,
      "_view_module": "@jupyter-widgets/base",
      "_view_module_version": "1.2.0",
      "_view_name": "StyleView",
      "bar_color": null,
      "description_width": ""
     }
    },
    "e521c2c792b842a18c7f9b0940f54ed4": {
     "model_module": "@jupyter-widgets/base",
     "model_module_version": "1.2.0",
     "model_name": "LayoutModel",
     "state": {
      "_model_module": "@jupyter-widgets/base",
      "_model_module_version": "1.2.0",
      "_model_name": "LayoutModel",
      "_view_count": null,
      "_view_module": "@jupyter-widgets/base",
      "_view_module_version": "1.2.0",
      "_view_name": "LayoutView",
      "align_content": null,
      "align_items": null,
      "align_self": null,
      "border": null,
      "bottom": null,
      "display": null,
      "flex": null,
      "flex_flow": null,
      "grid_area": null,
      "grid_auto_columns": null,
      "grid_auto_flow": null,
      "grid_auto_rows": null,
      "grid_column": null,
      "grid_gap": null,
      "grid_row": null,
      "grid_template_areas": null,
      "grid_template_columns": null,
      "grid_template_rows": null,
      "height": null,
      "justify_content": null,
      "justify_items": null,
      "left": null,
      "margin": null,
      "max_height": null,
      "max_width": null,
      "min_height": null,
      "min_width": null,
      "object_fit": null,
      "object_position": null,
      "order": null,
      "overflow": null,
      "overflow_x": null,
      "overflow_y": null,
      "padding": null,
      "right": null,
      "top": null,
      "visibility": null,
      "width": null
     }
    },
    "fabc5f699ae940ba929e4f6b67e5b093": {
     "model_module": "@jupyter-widgets/controls",
     "model_module_version": "1.5.0",
     "model_name": "DescriptionStyleModel",
     "state": {
      "_model_module": "@jupyter-widgets/controls",
      "_model_module_version": "1.5.0",
      "_model_name": "DescriptionStyleModel",
      "_view_count": null,
      "_view_module": "@jupyter-widgets/base",
      "_view_module_version": "1.2.0",
      "_view_name": "StyleView",
      "description_width": ""
     }
    },
    "fc7c780826cc4e378e77411fcdf3601d": {
     "model_module": "@jupyter-widgets/base",
     "model_module_version": "1.2.0",
     "model_name": "LayoutModel",
     "state": {
      "_model_module": "@jupyter-widgets/base",
      "_model_module_version": "1.2.0",
      "_model_name": "LayoutModel",
      "_view_count": null,
      "_view_module": "@jupyter-widgets/base",
      "_view_module_version": "1.2.0",
      "_view_name": "LayoutView",
      "align_content": null,
      "align_items": null,
      "align_self": null,
      "border": null,
      "bottom": null,
      "display": null,
      "flex": null,
      "flex_flow": null,
      "grid_area": null,
      "grid_auto_columns": null,
      "grid_auto_flow": null,
      "grid_auto_rows": null,
      "grid_column": null,
      "grid_gap": null,
      "grid_row": null,
      "grid_template_areas": null,
      "grid_template_columns": null,
      "grid_template_rows": null,
      "height": null,
      "justify_content": null,
      "justify_items": null,
      "left": null,
      "margin": null,
      "max_height": null,
      "max_width": null,
      "min_height": null,
      "min_width": null,
      "object_fit": null,
      "object_position": null,
      "order": null,
      "overflow": null,
      "overflow_x": null,
      "overflow_y": null,
      "padding": null,
      "right": null,
      "top": null,
      "visibility": null,
      "width": null
     }
    }
   }
  }
 },
 "nbformat": 4,
 "nbformat_minor": 0
}
