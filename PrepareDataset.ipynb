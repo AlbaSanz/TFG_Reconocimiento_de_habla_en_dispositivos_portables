{
 "cells": [
  {
   "cell_type": "code",
   "execution_count": 1,
   "metadata": {
    "ExecuteTime": {
     "end_time": "2023-05-16T10:32:57.239180Z",
     "start_time": "2023-05-16T10:32:40.990277Z"
    },
    "executionInfo": {
     "elapsed": 414,
     "status": "ok",
     "timestamp": 1682940786221,
     "user": {
      "displayName": "ALBA SANZ GARCIA",
      "userId": "07473662824620260012"
     },
     "user_tz": -120
    },
    "id": "tvj8aS6E1oWw"
   },
   "outputs": [
    {
     "name": "stdout",
     "output_type": "stream",
     "text": [
      "Requirement already satisfied: datasets in c:\\users\\albii\\onedrive\\escritorio\\alba\\4\\todataset\\.venv\\lib\\site-packages (2.12.0)Note: you may need to restart the kernel to use updated packages.\n"
     ]
    },
    {
     "name": "stderr",
     "output_type": "stream",
     "text": [
      "\n",
      "[notice] A new release of pip is available: 23.1.2 -> 23.2.1\n",
      "[notice] To update, run: python.exe -m pip install --upgrade pip\n"
     ]
    },
    {
     "name": "stdout",
     "output_type": "stream",
     "text": [
      "\n",
      "Requirement already satisfied: numpy>=1.17 in c:\\users\\albii\\onedrive\\escritorio\\alba\\4\\todataset\\.venv\\lib\\site-packages (from datasets) (1.24.3)\n",
      "Requirement already satisfied: pyarrow>=8.0.0 in c:\\users\\albii\\onedrive\\escritorio\\alba\\4\\todataset\\.venv\\lib\\site-packages (from datasets) (12.0.0)\n",
      "Requirement already satisfied: dill<0.3.7,>=0.3.0 in c:\\users\\albii\\onedrive\\escritorio\\alba\\4\\todataset\\.venv\\lib\\site-packages (from datasets) (0.3.6)\n",
      "Requirement already satisfied: pandas in c:\\users\\albii\\onedrive\\escritorio\\alba\\4\\todataset\\.venv\\lib\\site-packages (from datasets) (2.0.1)\n",
      "Requirement already satisfied: requests>=2.19.0 in c:\\users\\albii\\onedrive\\escritorio\\alba\\4\\todataset\\.venv\\lib\\site-packages (from datasets) (2.30.0)\n",
      "Requirement already satisfied: tqdm>=4.62.1 in c:\\users\\albii\\onedrive\\escritorio\\alba\\4\\todataset\\.venv\\lib\\site-packages (from datasets) (4.65.0)\n",
      "Requirement already satisfied: xxhash in c:\\users\\albii\\onedrive\\escritorio\\alba\\4\\todataset\\.venv\\lib\\site-packages (from datasets) (3.2.0)\n",
      "Requirement already satisfied: multiprocess in c:\\users\\albii\\onedrive\\escritorio\\alba\\4\\todataset\\.venv\\lib\\site-packages (from datasets) (0.70.14)\n",
      "Requirement already satisfied: fsspec[http]>=2021.11.1 in c:\\users\\albii\\onedrive\\escritorio\\alba\\4\\todataset\\.venv\\lib\\site-packages (from datasets) (2023.5.0)\n",
      "Requirement already satisfied: aiohttp in c:\\users\\albii\\onedrive\\escritorio\\alba\\4\\todataset\\.venv\\lib\\site-packages (from datasets) (3.8.4)\n",
      "Requirement already satisfied: huggingface-hub<1.0.0,>=0.11.0 in c:\\users\\albii\\onedrive\\escritorio\\alba\\4\\todataset\\.venv\\lib\\site-packages (from datasets) (0.14.1)\n",
      "Requirement already satisfied: packaging in c:\\users\\albii\\onedrive\\escritorio\\alba\\4\\todataset\\.venv\\lib\\site-packages (from datasets) (23.1)\n",
      "Requirement already satisfied: responses<0.19 in c:\\users\\albii\\onedrive\\escritorio\\alba\\4\\todataset\\.venv\\lib\\site-packages (from datasets) (0.18.0)\n",
      "Requirement already satisfied: pyyaml>=5.1 in c:\\users\\albii\\onedrive\\escritorio\\alba\\4\\todataset\\.venv\\lib\\site-packages (from datasets) (6.0)\n",
      "Requirement already satisfied: attrs>=17.3.0 in c:\\users\\albii\\onedrive\\escritorio\\alba\\4\\todataset\\.venv\\lib\\site-packages (from aiohttp->datasets) (23.1.0)\n",
      "Requirement already satisfied: charset-normalizer<4.0,>=2.0 in c:\\users\\albii\\onedrive\\escritorio\\alba\\4\\todataset\\.venv\\lib\\site-packages (from aiohttp->datasets) (3.1.0)\n",
      "Requirement already satisfied: multidict<7.0,>=4.5 in c:\\users\\albii\\onedrive\\escritorio\\alba\\4\\todataset\\.venv\\lib\\site-packages (from aiohttp->datasets) (6.0.4)\n",
      "Requirement already satisfied: async-timeout<5.0,>=4.0.0a3 in c:\\users\\albii\\onedrive\\escritorio\\alba\\4\\todataset\\.venv\\lib\\site-packages (from aiohttp->datasets) (4.0.2)\n",
      "Requirement already satisfied: yarl<2.0,>=1.0 in c:\\users\\albii\\onedrive\\escritorio\\alba\\4\\todataset\\.venv\\lib\\site-packages (from aiohttp->datasets) (1.9.2)\n",
      "Requirement already satisfied: frozenlist>=1.1.1 in c:\\users\\albii\\onedrive\\escritorio\\alba\\4\\todataset\\.venv\\lib\\site-packages (from aiohttp->datasets) (1.3.3)\n",
      "Requirement already satisfied: aiosignal>=1.1.2 in c:\\users\\albii\\onedrive\\escritorio\\alba\\4\\todataset\\.venv\\lib\\site-packages (from aiohttp->datasets) (1.3.1)\n",
      "Requirement already satisfied: filelock in c:\\users\\albii\\onedrive\\escritorio\\alba\\4\\todataset\\.venv\\lib\\site-packages (from huggingface-hub<1.0.0,>=0.11.0->datasets) (3.12.0)\n",
      "Requirement already satisfied: typing-extensions>=3.7.4.3 in c:\\users\\albii\\onedrive\\escritorio\\alba\\4\\todataset\\.venv\\lib\\site-packages (from huggingface-hub<1.0.0,>=0.11.0->datasets) (4.5.0)\n",
      "Requirement already satisfied: idna<4,>=2.5 in c:\\users\\albii\\onedrive\\escritorio\\alba\\4\\todataset\\.venv\\lib\\site-packages (from requests>=2.19.0->datasets) (3.4)\n",
      "Requirement already satisfied: urllib3<3,>=1.21.1 in c:\\users\\albii\\onedrive\\escritorio\\alba\\4\\todataset\\.venv\\lib\\site-packages (from requests>=2.19.0->datasets) (1.26.15)\n",
      "Requirement already satisfied: certifi>=2017.4.17 in c:\\users\\albii\\onedrive\\escritorio\\alba\\4\\todataset\\.venv\\lib\\site-packages (from requests>=2.19.0->datasets) (2023.5.7)\n",
      "Requirement already satisfied: colorama in c:\\users\\albii\\onedrive\\escritorio\\alba\\4\\todataset\\.venv\\lib\\site-packages (from tqdm>=4.62.1->datasets) (0.4.6)\n",
      "Requirement already satisfied: python-dateutil>=2.8.2 in c:\\users\\albii\\onedrive\\escritorio\\alba\\4\\todataset\\.venv\\lib\\site-packages (from pandas->datasets) (2.8.2)\n",
      "Requirement already satisfied: pytz>=2020.1 in c:\\users\\albii\\onedrive\\escritorio\\alba\\4\\todataset\\.venv\\lib\\site-packages (from pandas->datasets) (2023.3)\n",
      "Requirement already satisfied: tzdata>=2022.1 in c:\\users\\albii\\onedrive\\escritorio\\alba\\4\\todataset\\.venv\\lib\\site-packages (from pandas->datasets) (2023.3)\n",
      "Requirement already satisfied: six>=1.5 in c:\\users\\albii\\onedrive\\escritorio\\alba\\4\\todataset\\.venv\\lib\\site-packages (from python-dateutil>=2.8.2->pandas->datasets) (1.16.0)\n",
      "Requirement already satisfied: transformers in c:\\users\\albii\\onedrive\\escritorio\\alba\\4\\todataset\\.venv\\lib\\site-packages (4.28.1)\n",
      "Requirement already satisfied: filelock in c:\\users\\albii\\onedrive\\escritorio\\alba\\4\\todataset\\.venv\\lib\\site-packages (from transformers) (3.12.0)\n",
      "Requirement already satisfied: huggingface-hub<1.0,>=0.11.0 in c:\\users\\albii\\onedrive\\escritorio\\alba\\4\\todataset\\.venv\\lib\\site-packages (from transformers) (0.14.1)\n",
      "Requirement already satisfied: numpy>=1.17 in c:\\users\\albii\\onedrive\\escritorio\\alba\\4\\todataset\\.venv\\lib\\site-packages (from transformers) (1.24.3)\n",
      "Requirement already satisfied: packaging>=20.0 in c:\\users\\albii\\onedrive\\escritorio\\alba\\4\\todataset\\.venv\\lib\\site-packages (from transformers) (23.1)\n",
      "Requirement already satisfied: pyyaml>=5.1 in c:\\users\\albii\\onedrive\\escritorio\\alba\\4\\todataset\\.venv\\lib\\site-packages (from transformers) (6.0)\n",
      "Requirement already satisfied: regex!=2019.12.17 in c:\\users\\albii\\onedrive\\escritorio\\alba\\4\\todataset\\.venv\\lib\\site-packages (from transformers) (2023.5.5)\n",
      "Requirement already satisfied: requests in c:\\users\\albii\\onedrive\\escritorio\\alba\\4\\todataset\\.venv\\lib\\site-packages (from transformers) (2.30.0)\n",
      "Requirement already satisfied: tokenizers!=0.11.3,<0.14,>=0.11.1 in c:\\users\\albii\\onedrive\\escritorio\\alba\\4\\todataset\\.venv\\lib\\site-packages (from transformers) (0.13.3)\n",
      "Requirement already satisfied: tqdm>=4.27 in c:\\users\\albii\\onedrive\\escritorio\\alba\\4\\todataset\\.venv\\lib\\site-packages (from transformers) (4.65.0)\n",
      "Requirement already satisfied: fsspec in c:\\users\\albii\\onedrive\\escritorio\\alba\\4\\todataset\\.venv\\lib\\site-packages (from huggingface-hub<1.0,>=0.11.0->transformers) (2023.5.0)\n",
      "Requirement already satisfied: typing-extensions>=3.7.4.3 in c:\\users\\albii\\onedrive\\escritorio\\alba\\4\\todataset\\.venv\\lib\\site-packages (from huggingface-hub<1.0,>=0.11.0->transformers) (4.5.0)\n",
      "Requirement already satisfied: colorama in c:\\users\\albii\\onedrive\\escritorio\\alba\\4\\todataset\\.venv\\lib\\site-packages (from tqdm>=4.27->transformers) (0.4.6)\n",
      "Requirement already satisfied: charset-normalizer<4,>=2 in c:\\users\\albii\\onedrive\\escritorio\\alba\\4\\todataset\\.venv\\lib\\site-packages (from requests->transformers) (3.1.0)\n",
      "Requirement already satisfied: idna<4,>=2.5 in c:\\users\\albii\\onedrive\\escritorio\\alba\\4\\todataset\\.venv\\lib\\site-packages (from requests->transformers) (3.4)\n",
      "Requirement already satisfied: urllib3<3,>=1.21.1 in c:\\users\\albii\\onedrive\\escritorio\\alba\\4\\todataset\\.venv\\lib\\site-packages (from requests->transformers) (1.26.15)\n",
      "Requirement already satisfied: certifi>=2017.4.17 in c:\\users\\albii\\onedrive\\escritorio\\alba\\4\\todataset\\.venv\\lib\\site-packages (from requests->transformers) (2023.5.7)\n",
      "Note: you may need to restart the kernel to use updated packages.\n"
     ]
    },
    {
     "name": "stderr",
     "output_type": "stream",
     "text": [
      "\n",
      "[notice] A new release of pip is available: 23.1.2 -> 23.2.1\n",
      "[notice] To update, run: python.exe -m pip install --upgrade pip\n"
     ]
    },
    {
     "name": "stdout",
     "output_type": "stream",
     "text": [
      "Requirement already satisfied: librosa in c:\\users\\albii\\onedrive\\escritorio\\alba\\4\\todataset\\.venv\\lib\\site-packages (0.10.0.post2)\n",
      "Requirement already satisfied: audioread>=2.1.9 in c:\\users\\albii\\onedrive\\escritorio\\alba\\4\\todataset\\.venv\\lib\\site-packages (from librosa) (3.0.0)\n",
      "Requirement already satisfied: numpy!=1.22.0,!=1.22.1,!=1.22.2,>=1.20.3 in c:\\users\\albii\\onedrive\\escritorio\\alba\\4\\todataset\\.venv\\lib\\site-packages (from librosa) (1.24.3)\n",
      "Requirement already satisfied: scipy>=1.2.0 in c:\\users\\albii\\onedrive\\escritorio\\alba\\4\\todataset\\.venv\\lib\\site-packages (from librosa) (1.10.1)\n",
      "Requirement already satisfied: scikit-learn>=0.20.0 in c:\\users\\albii\\onedrive\\escritorio\\alba\\4\\todataset\\.venv\\lib\\site-packages (from librosa) (1.2.2)\n",
      "Requirement already satisfied: joblib>=0.14 in c:\\users\\albii\\onedrive\\escritorio\\alba\\4\\todataset\\.venv\\lib\\site-packages (from librosa) (1.2.0)\n",
      "Requirement already satisfied: decorator>=4.3.0 in c:\\users\\albii\\onedrive\\escritorio\\alba\\4\\todataset\\.venv\\lib\\site-packages (from librosa) (5.1.1)\n",
      "Requirement already satisfied: numba>=0.51.0 in c:\\users\\albii\\onedrive\\escritorio\\alba\\4\\todataset\\.venv\\lib\\site-packages (from librosa) (0.57.0)\n",
      "Requirement already satisfied: soundfile>=0.12.1 in c:\\users\\albii\\onedrive\\escritorio\\alba\\4\\todataset\\.venv\\lib\\site-packages (from librosa) (0.12.1)\n",
      "Requirement already satisfied: pooch<1.7,>=1.0 in c:\\users\\albii\\onedrive\\escritorio\\alba\\4\\todataset\\.venv\\lib\\site-packages (from librosa) (1.6.0)\n",
      "Requirement already satisfied: soxr>=0.3.2 in c:\\users\\albii\\onedrive\\escritorio\\alba\\4\\todataset\\.venv\\lib\\site-packages (from librosa) (0.3.5)\n",
      "Requirement already satisfied: typing-extensions>=4.1.1 in c:\\users\\albii\\onedrive\\escritorio\\alba\\4\\todataset\\.venv\\lib\\site-packages (from librosa) (4.5.0)\n",
      "Requirement already satisfied: lazy-loader>=0.1 in c:\\users\\albii\\onedrive\\escritorio\\alba\\4\\todataset\\.venv\\lib\\site-packages (from librosa) (0.2)\n",
      "Requirement already satisfied: msgpack>=1.0 in c:\\users\\albii\\onedrive\\escritorio\\alba\\4\\todataset\\.venv\\lib\\site-packages (from librosa) (1.0.5)\n",
      "Requirement already satisfied: llvmlite<0.41,>=0.40.0dev0 in c:\\users\\albii\\onedrive\\escritorio\\alba\\4\\todataset\\.venv\\lib\\site-packages (from numba>=0.51.0->librosa) (0.40.0)\n",
      "Requirement already satisfied: appdirs>=1.3.0 in c:\\users\\albii\\onedrive\\escritorio\\alba\\4\\todataset\\.venv\\lib\\site-packages (from pooch<1.7,>=1.0->librosa) (1.4.4)\n",
      "Requirement already satisfied: packaging>=20.0 in c:\\users\\albii\\onedrive\\escritorio\\alba\\4\\todataset\\.venv\\lib\\site-packages (from pooch<1.7,>=1.0->librosa) (23.1)\n",
      "Requirement already satisfied: requests>=2.19.0 in c:\\users\\albii\\onedrive\\escritorio\\alba\\4\\todataset\\.venv\\lib\\site-packages (from pooch<1.7,>=1.0->librosa) (2.30.0)\n",
      "Requirement already satisfied: threadpoolctl>=2.0.0 in c:\\users\\albii\\onedrive\\escritorio\\alba\\4\\todataset\\.venv\\lib\\site-packages (from scikit-learn>=0.20.0->librosa) (3.1.0)\n",
      "Requirement already satisfied: cffi>=1.0 in c:\\users\\albii\\onedrive\\escritorio\\alba\\4\\todataset\\.venv\\lib\\site-packages (from soundfile>=0.12.1->librosa) (1.15.1)\n",
      "Requirement already satisfied: pycparser in c:\\users\\albii\\onedrive\\escritorio\\alba\\4\\todataset\\.venv\\lib\\site-packages (from cffi>=1.0->soundfile>=0.12.1->librosa) (2.21)\n",
      "Requirement already satisfied: charset-normalizer<4,>=2 in c:\\users\\albii\\onedrive\\escritorio\\alba\\4\\todataset\\.venv\\lib\\site-packages (from requests>=2.19.0->pooch<1.7,>=1.0->librosa) (3.1.0)\n",
      "Requirement already satisfied: idna<4,>=2.5 in c:\\users\\albii\\onedrive\\escritorio\\alba\\4\\todataset\\.venv\\lib\\site-packages (from requests>=2.19.0->pooch<1.7,>=1.0->librosa) (3.4)\n",
      "Requirement already satisfied: urllib3<3,>=1.21.1 in c:\\users\\albii\\onedrive\\escritorio\\alba\\4\\todataset\\.venv\\lib\\site-packages (from requests>=2.19.0->pooch<1.7,>=1.0->librosa) (1.26.15)\n",
      "Requirement already satisfied: certifi>=2017.4.17 in c:\\users\\albii\\onedrive\\escritorio\\alba\\4\\todataset\\.venv\\lib\\site-packages (from requests>=2.19.0->pooch<1.7,>=1.0->librosa) (2023.5.7)\n",
      "Note: you may need to restart the kernel to use updated packages.\n"
     ]
    },
    {
     "name": "stderr",
     "output_type": "stream",
     "text": [
      "\n",
      "[notice] A new release of pip is available: 23.1.2 -> 23.2.1\n",
      "[notice] To update, run: python.exe -m pip install --upgrade pip\n"
     ]
    }
   ],
   "source": [
    "#Previamente Instalar: transformers, datasets, librosa\n",
    "%pip install datasets\n",
    "%pip install transformers\n",
    "%pip install librosa"
   ]
  },
  {
   "cell_type": "code",
   "execution_count": 2,
   "metadata": {
    "ExecuteTime": {
     "end_time": "2023-05-16T10:39:35.127814Z",
     "start_time": "2023-05-16T10:39:25.318612Z"
    },
    "executionInfo": {
     "elapsed": 18859,
     "status": "ok",
     "timestamp": 1682940805077,
     "user": {
      "displayName": "ALBA SANZ GARCIA",
      "userId": "07473662824620260012"
     },
     "user_tz": -120
    },
    "id": "W-Z5XKdr2w5P"
   },
   "outputs": [
    {
     "name": "stderr",
     "output_type": "stream",
     "text": [
      "c:\\Users\\albii\\OneDrive\\Escritorio\\ALBA\\4\\toDataset\\.venv\\Lib\\site-packages\\tqdm\\auto.py:21: TqdmWarning: IProgress not found. Please update jupyter and ipywidgets. See https://ipywidgets.readthedocs.io/en/stable/user_install.html\n",
      "  from .autonotebook import tqdm as notebook_tqdm\n"
     ]
    }
   ],
   "source": [
    "#Realizamos los imports necesarios\n",
    "import os\n",
    "import logging\n",
    "import librosa\n",
    "\n",
    "from datasets import DatasetDict, load_dataset\n",
    "from transformers import (\n",
    "    Wav2Vec2FeatureExtractor\n",
    ")\n",
    "\n",
    "\n",
    "logging.basicConfig(\n",
    "    format=\"%(asctime)s | %(levelname)s: %(message)s\", level=logging.INFO\n",
    ")"
   ]
  },
  {
   "cell_type": "code",
   "execution_count": 3,
   "metadata": {
    "ExecuteTime": {
     "end_time": "2023-05-16T11:01:15.298564Z",
     "start_time": "2023-05-16T11:01:15.280288Z"
    },
    "executionInfo": {
     "elapsed": 7,
     "status": "ok",
     "timestamp": 1682940810292,
     "user": {
      "displayName": "ALBA SANZ GARCIA",
      "userId": "07473662824620260012"
     },
     "user_tz": -120
    },
    "id": "ibwISWcF6Yse"
   },
   "outputs": [],
   "source": [
    "PreTrainedFeatureExtractor = \"SequenceFeatureExtractor\"\n",
    "\n",
    "NUM_LABELS = 6\n",
    "\n",
    "PROJECT_ROOT =  os.path.dirname(os.path.abspath('PrepareDataset.ipynb')) + '/'"
   ]
  },
  {
   "cell_type": "code",
   "execution_count": 4,
   "metadata": {},
   "outputs": [],
   "source": [
    "model_id = \"facebook/hubert-base-ls960\"\n",
    "\n",
    "#cargamos el extractor de las caracteristicas principales de los audios\n",
    "feature_extractor = Wav2Vec2FeatureExtractor.from_pretrained(model_id)"
   ]
  },
  {
   "cell_type": "code",
   "execution_count": 5,
   "metadata": {
    "ExecuteTime": {
     "end_time": "2023-05-16T11:01:25.892751Z",
     "start_time": "2023-05-16T11:01:23.818081Z"
    },
    "colab": {
     "base_uri": "https://localhost:8080/"
    },
    "executionInfo": {
     "elapsed": 5375,
     "status": "ok",
     "timestamp": 1682940815662,
     "user": {
      "displayName": "ALBA SANZ GARCIA",
      "userId": "07473662824620260012"
     },
     "user_tz": -120
    },
    "id": "1-j82hS-57NU",
    "outputId": "cb0d134e-fff9-408c-b447-da05c7b8ab27"
   },
   "outputs": [
    {
     "ename": "KeyboardInterrupt",
     "evalue": "",
     "output_type": "error",
     "traceback": [
      "\u001b[1;31m---------------------------------------------------------------------------\u001b[0m",
      "\u001b[1;31mKeyboardInterrupt\u001b[0m                         Traceback (most recent call last)",
      "Cell \u001b[1;32mIn[5], line 9\u001b[0m\n\u001b[0;32m      1\u001b[0m \u001b[39m#preparamos la configuracion para generar los datasets\u001b[39;00m\n\u001b[0;32m      2\u001b[0m dataset_config \u001b[39m=\u001b[39m {\n\u001b[0;32m      3\u001b[0m   \u001b[39m\"\u001b[39m\u001b[39mLOADING_SCRIPT_FILES\u001b[39m\u001b[39m\"\u001b[39m: os\u001b[39m.\u001b[39mpath\u001b[39m.\u001b[39mjoin(PROJECT_ROOT, \u001b[39m\"\u001b[39m\u001b[39msrc/data/crema.py\u001b[39m\u001b[39m\"\u001b[39m),\n\u001b[0;32m      4\u001b[0m   \u001b[39m\"\u001b[39m\u001b[39mCONFIG_NAME\u001b[39m\u001b[39m\"\u001b[39m: \u001b[39m\"\u001b[39m\u001b[39mclean\u001b[39m\u001b[39m\"\u001b[39m,\n\u001b[0;32m      5\u001b[0m   \u001b[39m\"\u001b[39m\u001b[39mDATA_DIR\u001b[39m\u001b[39m\"\u001b[39m: os\u001b[39m.\u001b[39mpath\u001b[39m.\u001b[39mjoin(PROJECT_ROOT, \u001b[39m\"\u001b[39m\u001b[39mdata/archive.zip\u001b[39m\u001b[39m\"\u001b[39m),\n\u001b[0;32m      6\u001b[0m   \u001b[39m\"\u001b[39m\u001b[39mCACHE_DIR\u001b[39m\u001b[39m\"\u001b[39m: os\u001b[39m.\u001b[39mpath\u001b[39m.\u001b[39mjoin(PROJECT_ROOT, \u001b[39m\"\u001b[39m\u001b[39mcache_crema\u001b[39m\u001b[39m\"\u001b[39m),\n\u001b[0;32m      7\u001b[0m }\n\u001b[1;32m----> 9\u001b[0m ds \u001b[39m=\u001b[39m load_dataset(\n\u001b[0;32m     10\u001b[0m   dataset_config[\u001b[39m\"\u001b[39;49m\u001b[39mLOADING_SCRIPT_FILES\u001b[39;49m\u001b[39m\"\u001b[39;49m],\n\u001b[0;32m     11\u001b[0m   dataset_config[\u001b[39m\"\u001b[39;49m\u001b[39mCONFIG_NAME\u001b[39;49m\u001b[39m\"\u001b[39;49m],\n\u001b[0;32m     12\u001b[0m   data_dir\u001b[39m=\u001b[39;49mdataset_config[\u001b[39m\"\u001b[39;49m\u001b[39mDATA_DIR\u001b[39;49m\u001b[39m\"\u001b[39;49m],\n\u001b[0;32m     13\u001b[0m   cache_dir\u001b[39m=\u001b[39;49mdataset_config[\u001b[39m\"\u001b[39;49m\u001b[39mCACHE_DIR\u001b[39;49m\u001b[39m\"\u001b[39;49m]\n\u001b[0;32m     14\u001b[0m )\n",
      "File \u001b[1;32mc:\\Users\\albii\\OneDrive\\Escritorio\\ALBA\\4\\toDataset\\.venv\\Lib\\site-packages\\datasets\\load.py:1773\u001b[0m, in \u001b[0;36mload_dataset\u001b[1;34m(path, name, data_dir, data_files, split, cache_dir, features, download_config, download_mode, verification_mode, ignore_verifications, keep_in_memory, save_infos, revision, use_auth_token, task, streaming, num_proc, storage_options, **config_kwargs)\u001b[0m\n\u001b[0;32m   1768\u001b[0m verification_mode \u001b[39m=\u001b[39m VerificationMode(\n\u001b[0;32m   1769\u001b[0m     (verification_mode \u001b[39mor\u001b[39;00m VerificationMode\u001b[39m.\u001b[39mBASIC_CHECKS) \u001b[39mif\u001b[39;00m \u001b[39mnot\u001b[39;00m save_infos \u001b[39melse\u001b[39;00m VerificationMode\u001b[39m.\u001b[39mALL_CHECKS\n\u001b[0;32m   1770\u001b[0m )\n\u001b[0;32m   1772\u001b[0m \u001b[39m# Create a dataset builder\u001b[39;00m\n\u001b[1;32m-> 1773\u001b[0m builder_instance \u001b[39m=\u001b[39m load_dataset_builder(\n\u001b[0;32m   1774\u001b[0m     path\u001b[39m=\u001b[39;49mpath,\n\u001b[0;32m   1775\u001b[0m     name\u001b[39m=\u001b[39;49mname,\n\u001b[0;32m   1776\u001b[0m     data_dir\u001b[39m=\u001b[39;49mdata_dir,\n\u001b[0;32m   1777\u001b[0m     data_files\u001b[39m=\u001b[39;49mdata_files,\n\u001b[0;32m   1778\u001b[0m     cache_dir\u001b[39m=\u001b[39;49mcache_dir,\n\u001b[0;32m   1779\u001b[0m     features\u001b[39m=\u001b[39;49mfeatures,\n\u001b[0;32m   1780\u001b[0m     download_config\u001b[39m=\u001b[39;49mdownload_config,\n\u001b[0;32m   1781\u001b[0m     download_mode\u001b[39m=\u001b[39;49mdownload_mode,\n\u001b[0;32m   1782\u001b[0m     revision\u001b[39m=\u001b[39;49mrevision,\n\u001b[0;32m   1783\u001b[0m     use_auth_token\u001b[39m=\u001b[39;49muse_auth_token,\n\u001b[0;32m   1784\u001b[0m     storage_options\u001b[39m=\u001b[39;49mstorage_options,\n\u001b[0;32m   1785\u001b[0m     \u001b[39m*\u001b[39;49m\u001b[39m*\u001b[39;49mconfig_kwargs,\n\u001b[0;32m   1786\u001b[0m )\n\u001b[0;32m   1788\u001b[0m \u001b[39m# Return iterable dataset in case of streaming\u001b[39;00m\n\u001b[0;32m   1789\u001b[0m \u001b[39mif\u001b[39;00m streaming:\n",
      "File \u001b[1;32mc:\\Users\\albii\\OneDrive\\Escritorio\\ALBA\\4\\toDataset\\.venv\\Lib\\site-packages\\datasets\\load.py:1528\u001b[0m, in \u001b[0;36mload_dataset_builder\u001b[1;34m(path, name, data_dir, data_files, cache_dir, features, download_config, download_mode, revision, use_auth_token, storage_options, **config_kwargs)\u001b[0m\n\u001b[0;32m   1525\u001b[0m     \u001b[39mraise\u001b[39;00m \u001b[39mValueError\u001b[39;00m(error_msg)\n\u001b[0;32m   1527\u001b[0m \u001b[39m# Instantiate the dataset builder\u001b[39;00m\n\u001b[1;32m-> 1528\u001b[0m builder_instance: DatasetBuilder \u001b[39m=\u001b[39m builder_cls(\n\u001b[0;32m   1529\u001b[0m     cache_dir\u001b[39m=\u001b[39;49mcache_dir,\n\u001b[0;32m   1530\u001b[0m     config_name\u001b[39m=\u001b[39;49mconfig_name,\n\u001b[0;32m   1531\u001b[0m     data_dir\u001b[39m=\u001b[39;49mdata_dir,\n\u001b[0;32m   1532\u001b[0m     data_files\u001b[39m=\u001b[39;49mdata_files,\n\u001b[0;32m   1533\u001b[0m     \u001b[39mhash\u001b[39;49m\u001b[39m=\u001b[39;49m\u001b[39mhash\u001b[39;49m,\n\u001b[0;32m   1534\u001b[0m     features\u001b[39m=\u001b[39;49mfeatures,\n\u001b[0;32m   1535\u001b[0m     use_auth_token\u001b[39m=\u001b[39;49muse_auth_token,\n\u001b[0;32m   1536\u001b[0m     storage_options\u001b[39m=\u001b[39;49mstorage_options,\n\u001b[0;32m   1537\u001b[0m     \u001b[39m*\u001b[39;49m\u001b[39m*\u001b[39;49mbuilder_kwargs,\n\u001b[0;32m   1538\u001b[0m     \u001b[39m*\u001b[39;49m\u001b[39m*\u001b[39;49mconfig_kwargs,\n\u001b[0;32m   1539\u001b[0m )\n\u001b[0;32m   1541\u001b[0m \u001b[39mreturn\u001b[39;00m builder_instance\n",
      "File \u001b[1;32mc:\\Users\\albii\\OneDrive\\Escritorio\\ALBA\\4\\toDataset\\.venv\\Lib\\site-packages\\datasets\\builder.py:380\u001b[0m, in \u001b[0;36mDatasetBuilder.__init__\u001b[1;34m(self, cache_dir, config_name, hash, base_path, info, features, use_auth_token, repo_id, data_files, data_dir, storage_options, writer_batch_size, name, **config_kwargs)\u001b[0m\n\u001b[0;32m    378\u001b[0m os\u001b[39m.\u001b[39mmakedirs(\u001b[39mself\u001b[39m\u001b[39m.\u001b[39m_cache_dir_root, exist_ok\u001b[39m=\u001b[39m\u001b[39mTrue\u001b[39;00m)\n\u001b[0;32m    379\u001b[0m lock_path \u001b[39m=\u001b[39m os\u001b[39m.\u001b[39mpath\u001b[39m.\u001b[39mjoin(\u001b[39mself\u001b[39m\u001b[39m.\u001b[39m_cache_dir_root, \u001b[39mself\u001b[39m\u001b[39m.\u001b[39m_cache_dir\u001b[39m.\u001b[39mreplace(os\u001b[39m.\u001b[39msep, \u001b[39m\"\u001b[39m\u001b[39m_\u001b[39m\u001b[39m\"\u001b[39m) \u001b[39m+\u001b[39m \u001b[39m\"\u001b[39m\u001b[39m.lock\u001b[39m\u001b[39m\"\u001b[39m)\n\u001b[1;32m--> 380\u001b[0m \u001b[39mwith\u001b[39;49;00m FileLock(lock_path):\n\u001b[0;32m    381\u001b[0m     \u001b[39mif\u001b[39;49;00m os\u001b[39m.\u001b[39;49mpath\u001b[39m.\u001b[39;49mexists(\u001b[39mself\u001b[39;49m\u001b[39m.\u001b[39;49m_cache_dir):  \u001b[39m# check if data exist\u001b[39;49;00m\n\u001b[0;32m    382\u001b[0m         \u001b[39mif\u001b[39;49;00m \u001b[39mlen\u001b[39;49m(os\u001b[39m.\u001b[39;49mlistdir(\u001b[39mself\u001b[39;49m\u001b[39m.\u001b[39;49m_cache_dir)) \u001b[39m>\u001b[39;49m \u001b[39m0\u001b[39;49m:\n",
      "File \u001b[1;32mc:\\Users\\albii\\OneDrive\\Escritorio\\ALBA\\4\\toDataset\\.venv\\Lib\\site-packages\\datasets\\utils\\filelock.py:320\u001b[0m, in \u001b[0;36mBaseFileLock.__enter__\u001b[1;34m(self)\u001b[0m\n\u001b[0;32m    319\u001b[0m \u001b[39mdef\u001b[39;00m \u001b[39m__enter__\u001b[39m(\u001b[39mself\u001b[39m):\n\u001b[1;32m--> 320\u001b[0m     \u001b[39mself\u001b[39;49m\u001b[39m.\u001b[39;49macquire()\n\u001b[0;32m    321\u001b[0m     \u001b[39mreturn\u001b[39;00m \u001b[39mself\u001b[39m\n",
      "File \u001b[1;32mc:\\Users\\albii\\OneDrive\\Escritorio\\ALBA\\4\\toDataset\\.venv\\Lib\\site-packages\\datasets\\utils\\filelock.py:282\u001b[0m, in \u001b[0;36mBaseFileLock.acquire\u001b[1;34m(self, timeout, poll_intervall)\u001b[0m\n\u001b[0;32m    278\u001b[0m         \u001b[39melse\u001b[39;00m:\n\u001b[0;32m    279\u001b[0m             logger()\u001b[39m.\u001b[39mdebug(\n\u001b[0;32m    280\u001b[0m                 \u001b[39mf\u001b[39m\u001b[39m\"\u001b[39m\u001b[39mLock \u001b[39m\u001b[39m{\u001b[39;00mlock_id\u001b[39m}\u001b[39;00m\u001b[39m not acquired on \u001b[39m\u001b[39m{\u001b[39;00mlock_filename\u001b[39m}\u001b[39;00m\u001b[39m, waiting \u001b[39m\u001b[39m{\u001b[39;00mpoll_intervall\u001b[39m}\u001b[39;00m\u001b[39m seconds ...\u001b[39m\u001b[39m\"\u001b[39m\n\u001b[0;32m    281\u001b[0m             )\n\u001b[1;32m--> 282\u001b[0m             time\u001b[39m.\u001b[39msleep(poll_intervall)\n\u001b[0;32m    283\u001b[0m \u001b[39mexcept\u001b[39;00m:  \u001b[39m# noqa\u001b[39;00m\n\u001b[0;32m    284\u001b[0m     \u001b[39m# Something did go wrong, so decrement the counter.\u001b[39;00m\n\u001b[0;32m    285\u001b[0m     \u001b[39mwith\u001b[39;00m \u001b[39mself\u001b[39m\u001b[39m.\u001b[39m_thread_lock:\n",
      "\u001b[1;31mKeyboardInterrupt\u001b[0m: "
     ]
    }
   ],
   "source": [
    "#preparamos la configuracion para generar los datasets\n",
    "dataset_config = {\n",
    "  \"LOADING_SCRIPT_FILES\": os.path.join(PROJECT_ROOT, \"src/data/crema.py\"),\n",
    "  \"CONFIG_NAME\": \"clean\",\n",
    "  \"DATA_DIR\": os.path.join(PROJECT_ROOT, \"data/archive.zip\"),\n",
    "  \"CACHE_DIR\": os.path.join(PROJECT_ROOT, \"cache_crema\"),\n",
    "}\n",
    "\n",
    "ds = load_dataset(\n",
    "  dataset_config[\"LOADING_SCRIPT_FILES\"],\n",
    "  dataset_config[\"CONFIG_NAME\"],\n",
    "  data_dir=dataset_config[\"DATA_DIR\"],\n",
    "  cache_dir=dataset_config[\"CACHE_DIR\"]\n",
    ")"
   ]
  },
  {
   "cell_type": "code",
   "execution_count": null,
   "metadata": {
    "colab": {
     "base_uri": "https://localhost:8080/"
    },
    "executionInfo": {
     "elapsed": 12,
     "status": "ok",
     "timestamp": 1682940815664,
     "user": {
      "displayName": "ALBA SANZ GARCIA",
      "userId": "07473662824620260012"
     },
     "user_tz": -120
    },
    "id": "Z_wVdMt27IYe",
    "outputId": "f1dbf442-21b9-41fd-9979-9b98042e0cdd"
   },
   "outputs": [],
   "source": [
    "#Convertimos nuestra base de datos en arrays\n",
    "ds = ds.map(\n",
    "        lambda x: {\n",
    "            \"array\": librosa.load(x[\"file\"], sr=16000, mono=False)[0]\n",
    "        }\n",
    "    )\n"
   ]
  },
  {
   "cell_type": "code",
   "execution_count": null,
   "metadata": {
    "ExecuteTime": {
     "end_time": "2023-05-16T11:01:18.233791Z",
     "start_time": "2023-05-16T11:01:18.222092Z"
    },
    "executionInfo": {
     "elapsed": 6,
     "status": "ok",
     "timestamp": 1682940810292,
     "user": {
      "displayName": "ALBA SANZ GARCIA",
      "userId": "07473662824620260012"
     },
     "user_tz": -120
    },
    "id": "6NIxMyqi99yJ"
   },
   "outputs": [],
   "source": [
    "'''Con esta funcion:\n",
    "    - Leemos la matriz del audio y se extraen las caracteristicas de ella con feature_extractor\n",
    "    - Crea una nueva característica llamada \"labels\" y su valor es el mismo que batch[\"label\"]\n",
    "'''\n",
    "\n",
    "INPUT_FIELD = \"input_values\" \n",
    "LABEL_FIELD = \"labels\"\n",
    "\n",
    "#IMPORTANTE: establecer la misma sr que el modelo que estamos utilizando(Facebook), en este caso 16KHz\n",
    "def prepare_dataset(batch, feature_extractor: PreTrainedFeatureExtractor):\n",
    "    audio_arr = batch[\"array\"]\n",
    "    input = feature_extractor(\n",
    "        audio_arr, \n",
    "        sampling_rate=16000, \n",
    "        padding=True, \n",
    "        return_tensors=\"pt\"\n",
    "    )\n",
    "\n",
    "    batch[INPUT_FIELD] = input.input_values[0]\n",
    "    batch[LABEL_FIELD] = batch[\"label\"]  # colname MUST be labels as Trainer will look for it by default\n",
    "\n",
    "    return batch\n"
   ]
  },
  {
   "cell_type": "code",
   "execution_count": null,
   "metadata": {
    "colab": {
     "base_uri": "https://localhost:8080/"
    },
    "executionInfo": {
     "elapsed": 10,
     "status": "ok",
     "timestamp": 1682940815664,
     "user": {
      "displayName": "ALBA SANZ GARCIA",
      "userId": "07473662824620260012"
     },
     "user_tz": -120
    },
    "id": "acgGOa3VIaQ7",
    "outputId": "f56132aa-c9c7-491a-873e-b03150440d53"
   },
   "outputs": [],
   "source": [
    "# Convertimos todas las etiquetas de texto en numeros 0-5\n",
    "ds = ds.class_encode_column(\"label\")"
   ]
  },
  {
   "cell_type": "code",
   "execution_count": null,
   "metadata": {
    "colab": {
     "base_uri": "https://localhost:8080/"
    },
    "executionInfo": {
     "elapsed": 371,
     "status": "ok",
     "timestamp": 1682940816028,
     "user": {
      "displayName": "ALBA SANZ GARCIA",
      "userId": "07473662824620260012"
     },
     "user_tz": -120
    },
    "id": "DqsHqt4Z--8R",
    "outputId": "7c4b8b5e-8e22-4746-d8fb-fcb5f2f5bfae"
   },
   "outputs": [],
   "source": [
    "# APPLY THE DATA PREP USING FEATURE EXTRACTOR TO ALL EXAMPLES\n",
    "ds = ds.map(\n",
    "    prepare_dataset,\n",
    "    fn_kwargs={\"feature_extractor\": feature_extractor}\n",
    "    # num_proc=2,\n",
    ")\n",
    "logging.info(\"Finished extracting features from audio arrays.\")"
   ]
  },
  {
   "cell_type": "code",
   "execution_count": null,
   "metadata": {},
   "outputs": [],
   "source": [
    "#Guardamos el dataset en el directorio ''datasets''\n",
    "ds.save_to_disk(PROJECT_ROOT + 'datasets')"
   ]
  }
 ],
 "metadata": {
  "colab": {
   "authorship_tag": "ABX9TyO+LXOo4gn9LbxF68ztfrFK",
   "provenance": []
  },
  "kernelspec": {
   "display_name": "Python 3 (ipykernel)",
   "language": "python",
   "name": "python3"
  },
  "language_info": {
   "codemirror_mode": {
    "name": "ipython",
    "version": 3
   },
   "file_extension": ".py",
   "mimetype": "text/x-python",
   "name": "python",
   "nbconvert_exporter": "python",
   "pygments_lexer": "ipython3",
   "version": "3.11.3"
  },
  "widgets": {
   "application/vnd.jupyter.widget-state+json": {
    "440fc67eb67f45689cb0e922a4f3d8d1": {
     "model_module": "@jupyter-widgets/controls",
     "model_module_version": "1.5.0",
     "model_name": "HBoxModel",
     "state": {
      "_dom_classes": [],
      "_model_module": "@jupyter-widgets/controls",
      "_model_module_version": "1.5.0",
      "_model_name": "HBoxModel",
      "_view_count": null,
      "_view_module": "@jupyter-widgets/controls",
      "_view_module_version": "1.5.0",
      "_view_name": "HBoxView",
      "box_style": "",
      "children": [
       "IPY_MODEL_9c0fa484e02d40698c583e9f26e5e697",
       "IPY_MODEL_706199793d3b40f38df6357b1e2f384e",
       "IPY_MODEL_7befee1552d04164a2cbc16de288758a"
      ],
      "layout": "IPY_MODEL_fc7c780826cc4e378e77411fcdf3601d"
     }
    },
    "52312e01484a4efda47be83d27d92d48": {
     "model_module": "@jupyter-widgets/controls",
     "model_module_version": "1.5.0",
     "model_name": "DescriptionStyleModel",
     "state": {
      "_model_module": "@jupyter-widgets/controls",
      "_model_module_version": "1.5.0",
      "_model_name": "DescriptionStyleModel",
      "_view_count": null,
      "_view_module": "@jupyter-widgets/base",
      "_view_module_version": "1.2.0",
      "_view_name": "StyleView",
      "description_width": ""
     }
    },
    "60f143b99f8a4929901fe8f3f2fad272": {
     "model_module": "@jupyter-widgets/base",
     "model_module_version": "1.2.0",
     "model_name": "LayoutModel",
     "state": {
      "_model_module": "@jupyter-widgets/base",
      "_model_module_version": "1.2.0",
      "_model_name": "LayoutModel",
      "_view_count": null,
      "_view_module": "@jupyter-widgets/base",
      "_view_module_version": "1.2.0",
      "_view_name": "LayoutView",
      "align_content": null,
      "align_items": null,
      "align_self": null,
      "border": null,
      "bottom": null,
      "display": null,
      "flex": null,
      "flex_flow": null,
      "grid_area": null,
      "grid_auto_columns": null,
      "grid_auto_flow": null,
      "grid_auto_rows": null,
      "grid_column": null,
      "grid_gap": null,
      "grid_row": null,
      "grid_template_areas": null,
      "grid_template_columns": null,
      "grid_template_rows": null,
      "height": null,
      "justify_content": null,
      "justify_items": null,
      "left": null,
      "margin": null,
      "max_height": null,
      "max_width": null,
      "min_height": null,
      "min_width": null,
      "object_fit": null,
      "object_position": null,
      "order": null,
      "overflow": null,
      "overflow_x": null,
      "overflow_y": null,
      "padding": null,
      "right": null,
      "top": null,
      "visibility": null,
      "width": null
     }
    },
    "660578329a7c41019ae68b33574e49f8": {
     "model_module": "@jupyter-widgets/base",
     "model_module_version": "1.2.0",
     "model_name": "LayoutModel",
     "state": {
      "_model_module": "@jupyter-widgets/base",
      "_model_module_version": "1.2.0",
      "_model_name": "LayoutModel",
      "_view_count": null,
      "_view_module": "@jupyter-widgets/base",
      "_view_module_version": "1.2.0",
      "_view_name": "LayoutView",
      "align_content": null,
      "align_items": null,
      "align_self": null,
      "border": null,
      "bottom": null,
      "display": null,
      "flex": null,
      "flex_flow": null,
      "grid_area": null,
      "grid_auto_columns": null,
      "grid_auto_flow": null,
      "grid_auto_rows": null,
      "grid_column": null,
      "grid_gap": null,
      "grid_row": null,
      "grid_template_areas": null,
      "grid_template_columns": null,
      "grid_template_rows": null,
      "height": null,
      "justify_content": null,
      "justify_items": null,
      "left": null,
      "margin": null,
      "max_height": null,
      "max_width": null,
      "min_height": null,
      "min_width": null,
      "object_fit": null,
      "object_position": null,
      "order": null,
      "overflow": null,
      "overflow_x": null,
      "overflow_y": null,
      "padding": null,
      "right": null,
      "top": null,
      "visibility": null,
      "width": null
     }
    },
    "706199793d3b40f38df6357b1e2f384e": {
     "model_module": "@jupyter-widgets/controls",
     "model_module_version": "1.5.0",
     "model_name": "FloatProgressModel",
     "state": {
      "_dom_classes": [],
      "_model_module": "@jupyter-widgets/controls",
      "_model_module_version": "1.5.0",
      "_model_name": "FloatProgressModel",
      "_view_count": null,
      "_view_module": "@jupyter-widgets/controls",
      "_view_module_version": "1.5.0",
      "_view_name": "ProgressView",
      "bar_style": "success",
      "description": "",
      "description_tooltip": null,
      "layout": "IPY_MODEL_60f143b99f8a4929901fe8f3f2fad272",
      "max": 1,
      "min": 0,
      "orientation": "horizontal",
      "style": "IPY_MODEL_aea5e1943fc74037b2a7e0f97a97c35a",
      "value": 1
     }
    },
    "7befee1552d04164a2cbc16de288758a": {
     "model_module": "@jupyter-widgets/controls",
     "model_module_version": "1.5.0",
     "model_name": "HTMLModel",
     "state": {
      "_dom_classes": [],
      "_model_module": "@jupyter-widgets/controls",
      "_model_module_version": "1.5.0",
      "_model_name": "HTMLModel",
      "_view_count": null,
      "_view_module": "@jupyter-widgets/controls",
      "_view_module_version": "1.5.0",
      "_view_name": "HTMLView",
      "description": "",
      "description_tooltip": null,
      "layout": "IPY_MODEL_660578329a7c41019ae68b33574e49f8",
      "placeholder": "​",
      "style": "IPY_MODEL_52312e01484a4efda47be83d27d92d48",
      "value": " 1/1 [00:00&lt;00:00, 15.86it/s]"
     }
    },
    "9c0fa484e02d40698c583e9f26e5e697": {
     "model_module": "@jupyter-widgets/controls",
     "model_module_version": "1.5.0",
     "model_name": "HTMLModel",
     "state": {
      "_dom_classes": [],
      "_model_module": "@jupyter-widgets/controls",
      "_model_module_version": "1.5.0",
      "_model_name": "HTMLModel",
      "_view_count": null,
      "_view_module": "@jupyter-widgets/controls",
      "_view_module_version": "1.5.0",
      "_view_name": "HTMLView",
      "description": "",
      "description_tooltip": null,
      "layout": "IPY_MODEL_e521c2c792b842a18c7f9b0940f54ed4",
      "placeholder": "​",
      "style": "IPY_MODEL_fabc5f699ae940ba929e4f6b67e5b093",
      "value": "100%"
     }
    },
    "aea5e1943fc74037b2a7e0f97a97c35a": {
     "model_module": "@jupyter-widgets/controls",
     "model_module_version": "1.5.0",
     "model_name": "ProgressStyleModel",
     "state": {
      "_model_module": "@jupyter-widgets/controls",
      "_model_module_version": "1.5.0",
      "_model_name": "ProgressStyleModel",
      "_view_count": null,
      "_view_module": "@jupyter-widgets/base",
      "_view_module_version": "1.2.0",
      "_view_name": "StyleView",
      "bar_color": null,
      "description_width": ""
     }
    },
    "e521c2c792b842a18c7f9b0940f54ed4": {
     "model_module": "@jupyter-widgets/base",
     "model_module_version": "1.2.0",
     "model_name": "LayoutModel",
     "state": {
      "_model_module": "@jupyter-widgets/base",
      "_model_module_version": "1.2.0",
      "_model_name": "LayoutModel",
      "_view_count": null,
      "_view_module": "@jupyter-widgets/base",
      "_view_module_version": "1.2.0",
      "_view_name": "LayoutView",
      "align_content": null,
      "align_items": null,
      "align_self": null,
      "border": null,
      "bottom": null,
      "display": null,
      "flex": null,
      "flex_flow": null,
      "grid_area": null,
      "grid_auto_columns": null,
      "grid_auto_flow": null,
      "grid_auto_rows": null,
      "grid_column": null,
      "grid_gap": null,
      "grid_row": null,
      "grid_template_areas": null,
      "grid_template_columns": null,
      "grid_template_rows": null,
      "height": null,
      "justify_content": null,
      "justify_items": null,
      "left": null,
      "margin": null,
      "max_height": null,
      "max_width": null,
      "min_height": null,
      "min_width": null,
      "object_fit": null,
      "object_position": null,
      "order": null,
      "overflow": null,
      "overflow_x": null,
      "overflow_y": null,
      "padding": null,
      "right": null,
      "top": null,
      "visibility": null,
      "width": null
     }
    },
    "fabc5f699ae940ba929e4f6b67e5b093": {
     "model_module": "@jupyter-widgets/controls",
     "model_module_version": "1.5.0",
     "model_name": "DescriptionStyleModel",
     "state": {
      "_model_module": "@jupyter-widgets/controls",
      "_model_module_version": "1.5.0",
      "_model_name": "DescriptionStyleModel",
      "_view_count": null,
      "_view_module": "@jupyter-widgets/base",
      "_view_module_version": "1.2.0",
      "_view_name": "StyleView",
      "description_width": ""
     }
    },
    "fc7c780826cc4e378e77411fcdf3601d": {
     "model_module": "@jupyter-widgets/base",
     "model_module_version": "1.2.0",
     "model_name": "LayoutModel",
     "state": {
      "_model_module": "@jupyter-widgets/base",
      "_model_module_version": "1.2.0",
      "_model_name": "LayoutModel",
      "_view_count": null,
      "_view_module": "@jupyter-widgets/base",
      "_view_module_version": "1.2.0",
      "_view_name": "LayoutView",
      "align_content": null,
      "align_items": null,
      "align_self": null,
      "border": null,
      "bottom": null,
      "display": null,
      "flex": null,
      "flex_flow": null,
      "grid_area": null,
      "grid_auto_columns": null,
      "grid_auto_flow": null,
      "grid_auto_rows": null,
      "grid_column": null,
      "grid_gap": null,
      "grid_row": null,
      "grid_template_areas": null,
      "grid_template_columns": null,
      "grid_template_rows": null,
      "height": null,
      "justify_content": null,
      "justify_items": null,
      "left": null,
      "margin": null,
      "max_height": null,
      "max_width": null,
      "min_height": null,
      "min_width": null,
      "object_fit": null,
      "object_position": null,
      "order": null,
      "overflow": null,
      "overflow_x": null,
      "overflow_y": null,
      "padding": null,
      "right": null,
      "top": null,
      "visibility": null,
      "width": null
     }
    }
   }
  }
 },
 "nbformat": 4,
 "nbformat_minor": 0
}
